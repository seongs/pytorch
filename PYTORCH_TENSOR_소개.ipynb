{
  "nbformat": 4,
  "nbformat_minor": 0,
  "metadata": {
    "colab": {
      "provenance": [],
      "gpuType": "T4",
      "authorship_tag": "ABX9TyN1hOMQdjPRa+0A7sourfg8",
      "include_colab_link": true
    },
    "kernelspec": {
      "name": "python3",
      "display_name": "Python 3"
    },
    "language_info": {
      "name": "python"
    },
    "accelerator": "GPU"
  },
  "cells": [
    {
      "cell_type": "markdown",
      "metadata": {
        "id": "view-in-github",
        "colab_type": "text"
      },
      "source": [
        "<a href=\"https://colab.research.google.com/github/seongs/pytorch/blob/main/PYTORCH_TENSOR_%EC%86%8C%EA%B0%9C.ipynb\" target=\"_parent\"><img src=\"https://colab.research.google.com/assets/colab-badge.svg\" alt=\"Open In Colab\"/></a>"
      ]
    },
    {
      "cell_type": "markdown",
      "source": [
        "# PYTORCH TENSOR 소개\n",
        "\n",
        "Tensor는 PyTorch에서 중요한 추상 데이터 자료형입니다. 이 interactive notebook은 torch.Tensor 클래스에 대한 심층적인 소개를 제공합니다.\n",
        "\n",
        "먼저 가장 중요한 것은 PyTorch 모듈을 import 하는 것입니다. 또한 몇 가지 예제에 사용할 math 모듈도 import 합니다."
      ],
      "metadata": {
        "id": "89GfyUTu_H2S"
      }
    },
    {
      "cell_type": "code",
      "execution_count": 1,
      "metadata": {
        "id": "Dc4UpleR-oYC"
      },
      "outputs": [],
      "source": [
        "import torch\n",
        "import math"
      ]
    },
    {
      "cell_type": "markdown",
      "source": [
        "## Tensor 생성하기\n",
        "\n",
        "tensor를 생성하는 가장 간단한 방법은 torch.empty() 를 호출하는 것입니다:"
      ],
      "metadata": {
        "id": "xd4nJIu2_fAM"
      }
    },
    {
      "cell_type": "code",
      "source": [
        "x = torch.empty(3,4)\n",
        "print(type(x))\n",
        "print(x)"
      ],
      "metadata": {
        "colab": {
          "base_uri": "https://localhost:8080/"
        },
        "id": "nu94uL_u_Ol9",
        "outputId": "a85adb96-02ab-429a-8d1d-e538f0507095"
      },
      "execution_count": 2,
      "outputs": [
        {
          "output_type": "stream",
          "name": "stdout",
          "text": [
            "<class 'torch.Tensor'>\n",
            "tensor([[2.3205e+00, 4.3110e-41, 2.3209e+00, 4.3110e-41],\n",
            "        [2.4939e+00, 4.3110e-41, 2.4939e+00, 4.3110e-41],\n",
            "        [2.4943e+00, 4.3110e-41, 2.4943e+00, 4.3110e-41]])\n"
          ]
        }
      ]
    },
    {
      "cell_type": "markdown",
      "source": [
        "방금 무엇을 한 것인지 들여다봅시다:\n",
        "\n",
        "- torch 모듈에 있는 수많은 메소드 중 하나를 사용해서 tensor를 만들었습니다.\n",
        "\n",
        "- 이 tensor는 3개의 행과 4개의 열을 가진 2차원 tensor입니다.\n",
        "\n",
        "- 객체가 반환한 type은 torch.Tensor 이며 이는 torch.FloatTensor 의 별칭입니다. 기본적으로 PyTorch tensor는 32-bit 부동 소수점 표현 실수로 채워 집니다. (아래에서 더 많은 데이터 자료형을 소개합니다)\n",
        "\n",
        "- 생성한 tensor를 출력하면 아마 무작위 값을 볼 수 있을 것 입니다. torch.empty() 는 tensor를 위한 메모리를 할당해 주지만 임의의 값으로 초기화하지는 않습니다 - 그렇기 때문에 할당 당시에 메모리가 가지고 있는 값을 보는 것입니다.\n",
        "\n",
        "간략하게 tensor와 tensor의 차원 수, 그리고 각 tensor의 용어에 대해 알아봅시다:\n",
        "\n",
        "- 때로는 1차원 tensor를 보게 될 것인데 이는 vector 라고 합니다.\n",
        "\n",
        "- 이와 마찬가지로 2차원 tensor는 주로 matrix 라고 합니다.\n",
        "\n",
        "- 2차원보다 큰 차원을 가진 것들은 일반적으로 그냥 tensor라고 합니다.\n",
        "\n",
        "코딩 하면서 주로 tensor를 몇 가지 값으로 초기화하고 싶을 수가 있습니다. 일반적인 경우로는 모두 0으로 초기화 하거나, 모두 1로 초기화 하거나, 혹은 모두 무작위 값으로 초기화 할 때가 있는데, 이때 torch 모듈은 이 모든 경우를 위한 메소드를 제공합니다:"
      ],
      "metadata": {
        "id": "AyQrls_SAAmb"
      }
    },
    {
      "cell_type": "code",
      "source": [
        "zeros = torch.zeros(2,3)\n",
        "print(zeros)\n",
        "\n",
        "ones = torch.ones(2,3)\n",
        "print(ones)\n",
        "\n",
        "torch.manual_seed(1729)\n",
        "random = torch.rand(2,3)\n",
        "print(random)"
      ],
      "metadata": {
        "colab": {
          "base_uri": "https://localhost:8080/"
        },
        "id": "Eu6WO--W_qNu",
        "outputId": "fb9d7f90-b4ef-4f83-b513-e3d587d6f9c9"
      },
      "execution_count": 3,
      "outputs": [
        {
          "output_type": "stream",
          "name": "stdout",
          "text": [
            "tensor([[0., 0., 0.],\n",
            "        [0., 0., 0.]])\n",
            "tensor([[1., 1., 1.],\n",
            "        [1., 1., 1.]])\n",
            "tensor([[0.3126, 0.3791, 0.3087],\n",
            "        [0.0736, 0.4216, 0.0691]])\n"
          ]
        }
      ]
    },
    {
      "cell_type": "markdown",
      "source": [
        "이 모든 팩토리 메소드들은 우리가 기대하던 것들을 모두 수행합니다 - 0으로 모두 채워 진 tensor, 1로 모두 채워 진 tensor 그리고 0과 1사이의 무작위 값으로 채워 진 tensor를 얻었습니다.\n",
        "\n",
        "##무작위 Tensor와 Seed 사용하기\n",
        "\n",
        "무작위 tensor에 대해 말하자면, 바로 앞에서 호출하는 torch.manual_seed() 를 눈치채셨나요? 특히 연구 환경에서 연구 결과의 재현 가능성에 대한 확신을 얻고 싶을 때, 모델의 학습 가중치와 같은 무작위 값을 가진 tensor로 초기화 하는 것은 흔하거나 종종 일어나는 일입니다. 직접 무작위 난수 생성기의 seed를 설정하는 것이 다음 방법입니다. 다음 코드를 보며 더 자세히 알아봅시다:"
      ],
      "metadata": {
        "id": "NzGOw42zBEV_"
      }
    },
    {
      "cell_type": "code",
      "source": [
        "torch.manual_seed(1729)\n",
        "random1 = torch.rand(2,3)\n",
        "print(random1)\n",
        "\n",
        "random2 =torch.rand(2,3)\n",
        "print(random2)\n",
        "\n",
        "torch.manual_seed(1729)\n",
        "random3 = torch.rand(2,3)\n",
        "print(random3)\n",
        "\n",
        "random4 = torch.rand(2,3)\n",
        "print(random4)"
      ],
      "metadata": {
        "colab": {
          "base_uri": "https://localhost:8080/"
        },
        "id": "1vyOL7G9Avu6",
        "outputId": "911ec300-d946-42c9-9483-546c49bb62e7"
      },
      "execution_count": 5,
      "outputs": [
        {
          "output_type": "stream",
          "name": "stdout",
          "text": [
            "tensor([[0.3126, 0.3791, 0.3087],\n",
            "        [0.0736, 0.4216, 0.0691]])\n",
            "tensor([[0.2332, 0.4047, 0.2162],\n",
            "        [0.9927, 0.4128, 0.5938]])\n",
            "tensor([[0.3126, 0.3791, 0.3087],\n",
            "        [0.0736, 0.4216, 0.0691]])\n",
            "tensor([[0.2332, 0.4047, 0.2162],\n",
            "        [0.9927, 0.4128, 0.5938]])\n"
          ]
        }
      ]
    },
    {
      "cell_type": "markdown",
      "source": [
        "random1 과 random3 그리고 random2 과 random4 , 이 각각 서로 동일한 결과가 나온다는 것을 볼 수 있습니다. 무작위 난수 생성기의 seed를 수동으로 설정하면 난수가 재 설정되어 대부분의 환경에서 무작위 숫자에 의존하는 동일한 계산이 이루어지고 동일한 결과를 제공합니다.\n",
        "\n",
        "보다 자세한 정보는 다음 문서를 참고하세요 PyTorch documentation on reproducibility.\n",
        "\n",
        "##Tensor의 shape\n",
        "\n",
        "두 개 혹은 그 이상의 tensor에 대한 연산을 수행할 때, tensor들은 같은 shape를 필요로 합니다 - 다시 말해서 차원의 개수가 같아야 하고, 각 차원마다 원소의 수가 같아야 합니다. 그러기 위해서는 torch.*_like() 함수를 사용합니다."
      ],
      "metadata": {
        "id": "mBWvRQynCWW_"
      }
    },
    {
      "cell_type": "code",
      "source": [
        "x = torch.empty(2,2,3)\n",
        "print(x.shape)\n",
        "print(x)\n",
        "\n",
        "empty_like_x = torch.empty_like(x)\n",
        "print(empty_like_x.shape)\n",
        "print(empty_like_x)\n",
        "\n",
        "zeros_like_x = torch.zeros_like(x)\n",
        "print(zeros_like_x.shape)\n",
        "print(zeros_like_x)\n",
        "\n",
        "one_like_x = torch.ones_like(x)\n",
        "print(one_like_x.shape)\n",
        "print(one_like_x)\n",
        "\n",
        "rand_like_x = torch.rand_like(x)\n",
        "print(rand_like_x.shape)\n",
        "print(rand_like_x)"
      ],
      "metadata": {
        "colab": {
          "base_uri": "https://localhost:8080/"
        },
        "id": "GpDmggmMBs5K",
        "outputId": "534e30fe-f91d-4ed5-fc5d-bc1275f42b11"
      },
      "execution_count": 6,
      "outputs": [
        {
          "output_type": "stream",
          "name": "stdout",
          "text": [
            "torch.Size([2, 2, 3])\n",
            "tensor([[[-1.0164e+09,  3.0973e-41, -9.8233e+08],\n",
            "         [ 3.0973e-41,  0.0000e+00,  0.0000e+00]],\n",
            "\n",
            "        [[ 0.0000e+00,  0.0000e+00,  0.0000e+00],\n",
            "         [ 0.0000e+00,  3.8074e+22,  0.0000e+00]]])\n",
            "torch.Size([2, 2, 3])\n",
            "tensor([[[-9.9987e+08,  3.0973e-41, -7.8367e+08],\n",
            "         [ 3.0973e-41,  1.3312e-43,  1.5134e-43]],\n",
            "\n",
            "        [[ 1.4714e-43,  1.4994e-43,  1.4153e-43],\n",
            "         [ 1.3312e-43,  1.6816e-43,  4.4842e-44]]])\n",
            "torch.Size([2, 2, 3])\n",
            "tensor([[[0., 0., 0.],\n",
            "         [0., 0., 0.]],\n",
            "\n",
            "        [[0., 0., 0.],\n",
            "         [0., 0., 0.]]])\n",
            "torch.Size([2, 2, 3])\n",
            "tensor([[[1., 1., 1.],\n",
            "         [1., 1., 1.]],\n",
            "\n",
            "        [[1., 1., 1.],\n",
            "         [1., 1., 1.]]])\n",
            "torch.Size([2, 2, 3])\n",
            "tensor([[[0.6128, 0.1519, 0.0453],\n",
            "         [0.5035, 0.9978, 0.3884]],\n",
            "\n",
            "        [[0.6929, 0.1703, 0.1384],\n",
            "         [0.4759, 0.7481, 0.0361]]])\n"
          ]
        }
      ]
    },
    {
      "cell_type": "markdown",
      "source": [
        "위쪽의 코드 셀에 있는 것들 중에 첫 번째는 tensor에 있는 .shape 속성을 사용했습니다. 이 속성은 tensor의 각 차원 크기에 대한 리스트를 포함합니다 - 이 경우에, x 는 shape가 2 x 2 x 3 인 3차원 tensor입니다.\n",
        "\n",
        "그 아래에는 .empty_like(), .zeros_like(), .ones_like(), and .rand_like() 메소드를 호출 합니다. .shape 속성을 통해서, 위의 메소드들이 동일한 차원값을 반환한다는 것을 검증할 수 있습니다.\n",
        "\n",
        "여기서 다루는 tensor를 생성하는 마지막 방법은 PyTorch collection 형식의 데이터를 직접적으로 명시하는 것 입니다:"
      ],
      "metadata": {
        "id": "HwW-2zsvHRe9"
      }
    },
    {
      "cell_type": "code",
      "source": [
        "some_constants = torch.tensor([[3.1415926, 2.71828],[1.61803, 0.0072897]])\n",
        "print(some_constants)\n",
        "\n",
        "some_integers = torch.tensor((2,3,5,7,11,13,17,19))\n",
        "print(some_integers)\n",
        "\n",
        "more_integers = torch.tensor(((2,4,6),[3,6,9,]))\n",
        "print(more_integers)"
      ],
      "metadata": {
        "colab": {
          "base_uri": "https://localhost:8080/"
        },
        "id": "jJ0Sq8djDnTW",
        "outputId": "fab1ca8c-de87-4e53-db14-a10dc44661df"
      },
      "execution_count": 8,
      "outputs": [
        {
          "output_type": "stream",
          "name": "stdout",
          "text": [
            "tensor([[3.1416, 2.7183],\n",
            "        [1.6180, 0.0073]])\n",
            "tensor([ 2,  3,  5,  7, 11, 13, 17, 19])\n",
            "tensor([[2, 4, 6],\n",
            "        [3, 6, 9]])\n"
          ]
        }
      ]
    },
    {
      "cell_type": "markdown",
      "source": [
        "torch.tensor() 는 이미 Python tuple이나 list 형태로 이루어진 데이터를 가지고 있는 경우 tensor를 만들기 가장 쉬운 방법입니다. 위에서 본 것 처럼 중첩된 형태의 collection 자료형은 다차원 tensor가 결과로 나옵니다.\n",
        "\n",
        "- 참고\n",
        "torch.tensor() 는 데이터의 복사본을 생성합니다.\n",
        "\n",
        "## Tensor 자료형\n",
        "tensor의 자료형을 설정하는 것은 다양한 방식이 가능합니다"
      ],
      "metadata": {
        "id": "UY9MBZSEIPrJ"
      }
    },
    {
      "cell_type": "code",
      "source": [
        "a = torch.ones((2,3),dtype=torch.int16)\n",
        "print(a)\n",
        "\n",
        "b = torch.rand((2,3), dtype=torch.float64) * 20\n",
        "print(b)\n",
        "\n",
        "c = b.to(torch.int32)\n",
        "print(c)"
      ],
      "metadata": {
        "colab": {
          "base_uri": "https://localhost:8080/"
        },
        "id": "S_ndq93rH5MY",
        "outputId": "94fa7cc2-0281-42cf-8e4d-694aecc5a91c"
      },
      "execution_count": 9,
      "outputs": [
        {
          "output_type": "stream",
          "name": "stdout",
          "text": [
            "tensor([[1, 1, 1],\n",
            "        [1, 1, 1]], dtype=torch.int16)\n",
            "tensor([[ 0.9956,  1.4148,  5.8364],\n",
            "        [11.2406, 11.2083, 11.6692]], dtype=torch.float64)\n",
            "tensor([[ 0,  1,  5],\n",
            "        [11, 11, 11]], dtype=torch.int32)\n"
          ]
        }
      ]
    },
    {
      "cell_type": "markdown",
      "source": [
        "tensor의 자료형을 설정하는 가장 단순한 방식은 생성할 때 선택적 인자를 사용하는 것 입니다. 위에 있는 cell의 첫 번째 줄을 보면, tensor a 를 dtype=torch.int16 자료형으로 설정했습니다. a 를 출력할 때, 1. 대신에 1 로 가득 찬 모습을 볼 수 있습니다 - 파이썬에서 아래 점이 없으면 실수 자료형이 아닌 정수 자료형을 의미합니다.\n",
        "\n",
        "a 를 출력할 때 또 한가지 주목할 점은, dtype 을 기본값 (32-bit 부동 소수점) 으로 남길 때와 다르게 tensor를 출력하는 경우 각 tensor의 dtype 을 명시한다는 것입니다.\n",
        "\n",
        "tensor의 shape를 정수형 인자의 나열, 즉 이 인자를 tuple 자료형 형태로 묶는다는 것을 발견할 수 있습니다. 이것은 반드시 필요한 것은 아닙니다 - PyTorch에서는 첫 번째 인자로 tensor shape라는 값을 의미하는 라벨이 없는 정수 인자를 여러개를 받습니다 - 하지만 선택 인자를 추가했을 때, 이 방식은 코드를 더 읽기 쉽게 만들 수 있습니다.\n",
        "\n",
        "자료형을 설정하는 다른 방법은 .to() 메소드랑 함께 사용하는 것 입니다. 위쪽 셀에서 평범한 방식으로 무작위 실수 자료형 tensor b 를 생성합니다. 이어서 .to() 메소드를 사용해서 b 를 32-bit 정수 자료형으로 변환한 c 를 생성합니다. c 는 모든 b 의 값과 같은 값을 가지고 있지만 소수점 아래 자리를 버린다는 점이 다릅니다.\n",
        "\n",
        "가능한 데이터 자료형은 다음을 포함합니다:\n",
        "\n",
        "- torch.bool\n",
        "\n",
        "- torch.int8\n",
        "\n",
        "- torch.uint8\n",
        "\n",
        "- torch.int16\n",
        "\n",
        "- torch.int32\n",
        "\n",
        "- torch.int64\n",
        "\n",
        "- torch.double\n",
        "\n",
        "- torch.bfloat\n",
        "\n",
        "## PyTorch Tensor에서 산술 & 논리 연산\n",
        "지금까지 tensor를 생성하는 몇 가지 방식을 알아봤습니다. 이것을 가지고 무엇을 할 수 있을까요?\n",
        "\n",
        "먼저 기본적인 산술 연산을 알아보고, 그 다음 tensor가 단순 스칼라 값과 어떻게 상호작용 하는지 알아봅시다:"
      ],
      "metadata": {
        "id": "dBntaOxJJiBD"
      }
    },
    {
      "cell_type": "code",
      "source": [
        "ones = torch.zeros(2,2) + 1\n",
        "twos = torch.ones(2,2) * 2\n",
        "threes = (torch.ones(2,2) * 7 - 1) / 2\n",
        "fours = twos ** 2\n",
        "sqrt2s = twos ** 0.5\n",
        "\n",
        "print(ones)\n",
        "print(twos)\n",
        "print(threes)\n",
        "print(fours)\n",
        "print(sqrt2s)"
      ],
      "metadata": {
        "colab": {
          "base_uri": "https://localhost:8080/"
        },
        "id": "dThxWPjoIqa3",
        "outputId": "b61fc653-2433-474a-891c-0fadf8f29181"
      },
      "execution_count": 10,
      "outputs": [
        {
          "output_type": "stream",
          "name": "stdout",
          "text": [
            "tensor([[1., 1.],\n",
            "        [1., 1.]])\n",
            "tensor([[2., 2.],\n",
            "        [2., 2.]])\n",
            "tensor([[3., 3.],\n",
            "        [3., 3.]])\n",
            "tensor([[4., 4.],\n",
            "        [4., 4.]])\n",
            "tensor([[1.4142, 1.4142],\n",
            "        [1.4142, 1.4142]])\n"
          ]
        }
      ]
    },
    {
      "cell_type": "markdown",
      "source": [
        "위에서 볼 수 있듯이 tensor들과 스칼라 값 사이 산술연산, 예를 들면 덧셈, 뺄셈, 곱셈, 나눗셈 그리고 거듭제곱은 tensor의 각 원소에 나눠서 계산을 합니다. 이러한 연산의 결과는 tensor가 될 것이기 때문에, threes 변수를 생성하는 줄에서 처럼 일반적인 연산자 우선순위 규칙과 함께 연산자를 연결할 수 있습니다.\n",
        "\n",
        "두 tensor 사이 유사한 연산도 직관적으로 예상할 수 있는 방식으로 동작합니다:"
      ],
      "metadata": {
        "id": "wWtXapg3Kom6"
      }
    },
    {
      "cell_type": "code",
      "source": [
        "powers2 = twos ** torch.tensor([[1,2],[3,4]])\n",
        "print(powers2)\n",
        "\n",
        "fives = ones + fours\n",
        "print(fives)\n",
        "\n",
        "dozens = threes * fours\n",
        "print(dozens)"
      ],
      "metadata": {
        "colab": {
          "base_uri": "https://localhost:8080/"
        },
        "id": "W_CP3rXHKU-S",
        "outputId": "2ba6ecd9-9613-49a9-c44f-1925da5a34a2"
      },
      "execution_count": 12,
      "outputs": [
        {
          "output_type": "stream",
          "name": "stdout",
          "text": [
            "tensor([[ 2.,  4.],\n",
            "        [ 8., 16.]])\n",
            "tensor([[5., 5.],\n",
            "        [5., 5.]])\n",
            "tensor([[12., 12.],\n",
            "        [12., 12.]])\n"
          ]
        }
      ]
    },
    {
      "cell_type": "markdown",
      "source": [
        "여기서 주목해야 할 점은 이전 코드 cell에 있는 모든 tensor는 동일한 shape를 가져야 한다는 것 입니다. 만약 서로 다른 shape를 가진 tensor끼리 이진 연산을 수행한다면 무슨 일이 일어날까요?\n",
        "\n",
        "- 참고\n",
        "\n",
        "다음 cell은 run-time error가 발생합니다. 이것은 의도한 것입니다."
      ],
      "metadata": {
        "id": "oG0UeHs2LnjS"
      }
    },
    {
      "cell_type": "code",
      "source": [
        "a = torch.rand(2,3)\n",
        "b = torch.rand(3,2)\n",
        "\n",
        "print(a * b)"
      ],
      "metadata": {
        "colab": {
          "base_uri": "https://localhost:8080/",
          "height": 205
        },
        "id": "_D6WKLZvK_Gr",
        "outputId": "c9ad07a8-4873-49d8-e00d-49d687260695"
      },
      "execution_count": 13,
      "outputs": [
        {
          "output_type": "error",
          "ename": "RuntimeError",
          "evalue": "The size of tensor a (3) must match the size of tensor b (2) at non-singleton dimension 1",
          "traceback": [
            "\u001b[0;31m---------------------------------------------------------------------------\u001b[0m",
            "\u001b[0;31mRuntimeError\u001b[0m                              Traceback (most recent call last)",
            "\u001b[0;32m<ipython-input-13-a9ee3cf52fb6>\u001b[0m in \u001b[0;36m<cell line: 4>\u001b[0;34m()\u001b[0m\n\u001b[1;32m      2\u001b[0m \u001b[0mb\u001b[0m \u001b[0;34m=\u001b[0m \u001b[0mtorch\u001b[0m\u001b[0;34m.\u001b[0m\u001b[0mrand\u001b[0m\u001b[0;34m(\u001b[0m\u001b[0;36m3\u001b[0m\u001b[0;34m,\u001b[0m\u001b[0;36m2\u001b[0m\u001b[0;34m)\u001b[0m\u001b[0;34m\u001b[0m\u001b[0;34m\u001b[0m\u001b[0m\n\u001b[1;32m      3\u001b[0m \u001b[0;34m\u001b[0m\u001b[0m\n\u001b[0;32m----> 4\u001b[0;31m \u001b[0mprint\u001b[0m\u001b[0;34m(\u001b[0m\u001b[0ma\u001b[0m \u001b[0;34m*\u001b[0m \u001b[0mb\u001b[0m\u001b[0;34m)\u001b[0m\u001b[0;34m\u001b[0m\u001b[0;34m\u001b[0m\u001b[0m\n\u001b[0m",
            "\u001b[0;31mRuntimeError\u001b[0m: The size of tensor a (3) must match the size of tensor b (2) at non-singleton dimension 1"
          ]
        }
      ]
    },
    {
      "cell_type": "markdown",
      "source": [
        "일반적인 경우에, 다른 shape의 tensor를 이러한 방식으로 연산할 수 없습니다. 심지어 위에 있는 cell에 있는 경우처럼 tensor가 서로 같은 개수의 원소를 가지고 있는 경우에도 연산할 수 없습니다.\n",
        "\n",
        "### 개요: Tensor Broadcasting\n",
        "\n",
        "- 참고\n",
        "만약 NumPy의 ndarrays에서 사용하는 broadcasting 문법에 익숙하다면, 여기서도 같은 규칙이 적용된다는 것을 확인할 수 있습니다.\n",
        "\n",
        "\n",
        "tensor는 같은 shape끼리만 연산이 가능하다는 규칙의 예외가 바로 tensor broadcasting 입니다. 다음은 그 예시입니다:"
      ],
      "metadata": {
        "id": "EPV5JKvJMHQ9"
      }
    },
    {
      "cell_type": "code",
      "source": [
        "rand = torch.rand(2,4)\n",
        "doubled = rand * (torch.ones(1,4) * 2)\n",
        "\n",
        "print(rand)\n",
        "print(doubled)"
      ],
      "metadata": {
        "colab": {
          "base_uri": "https://localhost:8080/"
        },
        "id": "Y9DK5qApLwSJ",
        "outputId": "bf04c88e-7ce3-42c5-eddb-7958b4982f41"
      },
      "execution_count": 14,
      "outputs": [
        {
          "output_type": "stream",
          "name": "stdout",
          "text": [
            "tensor([[0.2024, 0.5731, 0.7191, 0.4067],\n",
            "        [0.7301, 0.6276, 0.7357, 0.0381]])\n",
            "tensor([[0.4049, 1.1461, 1.4382, 0.8134],\n",
            "        [1.4602, 1.2551, 1.4715, 0.0762]])\n"
          ]
        }
      ]
    },
    {
      "cell_type": "markdown",
      "source": [
        "여기서 무슨 트릭이 사용되고 있는 것일까요? 어떻게 2x4 tensor에 1x4 tensor를 곱한 값을 얻을 수 있을까요?\n",
        "\n",
        "Broadcasting은 서로 비슷한 shape를 가진 tensor사이 연산을 수행하는 방법입니다. 위의 예시를 보면, 행의 값이 1이고, 열의 값이 4인 tensor가 행의 값이 2이고, 열의 값이 4인 tensor의 모든 행 에 곱하게 됩니다.\n",
        "\n",
        "이것은 딥러닝에서 중요한 연산입니다. 일반적인 예시는 학습 가중치 tensor에 입력 tensor의 배치 를 곱하고, 배치의 각 인스턴스에 곱하기 연산을 개별적으로 적용한 이후 위의 (2, 4) * (1, 4) tensor연산의 결과가 (2, 4) shape tensor인 것처럼 - 동일한 shape의 학습 가중치 tensor를 반환하는 것입니다.\n",
        "\n",
        "Broadcasting의 규칙은 다음과 같습니다:\n",
        "\n",
        "- 각 tensor는 최소한 1차원 이상을 반드시 가지고 있어야 합니다 - 빈 tensor는 사용할 수 없습니다.\n",
        "\n",
        "- 두 tensor의 각 차원 크기 원소가 다음 조건을 만족하는지 확인하며 비교합니다. 이때 비교 순서는 맨 뒤에서부터 맨 앞으로 입니다;\n",
        "\n",
        "- 각 차원이 서로 동일합니다, 또는\n",
        "\n",
        "- 각 차원중의 하나의 크기가 반드시 1입니다, 또는\n",
        "\n",
        "- tensor들 중 하나의 차원이 존재하지 않습니다.\n",
        "\n",
        "이전에 봤던 것처럼, 물론 동일한 shape를 가진 Tensor들은 자명하게 “broadcastable” 합니다.\n",
        "\n",
        "다음 예제는 위의 규칙을 준수하고 broadcasting을 허용하는 몇 가지 상황입니다."
      ],
      "metadata": {
        "id": "Tt80LTtCQDaf"
      }
    },
    {
      "cell_type": "code",
      "source": [
        "a = torch.ones(4,3,2)\n",
        "\n",
        "b = a* torch.rand(3,2)\n",
        "\n",
        "print(b)\n",
        "\n",
        "c = a * torch.rand(3,1)\n",
        "print(c)\n",
        "\n",
        "d = a * torch.rand( 1,2)\n",
        "print(d)"
      ],
      "metadata": {
        "colab": {
          "base_uri": "https://localhost:8080/"
        },
        "id": "Hq4lVHa_Mc_H",
        "outputId": "38bf7cea-e570-414a-c53d-7a8153523761"
      },
      "execution_count": 15,
      "outputs": [
        {
          "output_type": "stream",
          "name": "stdout",
          "text": [
            "tensor([[[0.2138, 0.5395],\n",
            "         [0.3686, 0.4007],\n",
            "         [0.7220, 0.8217]],\n",
            "\n",
            "        [[0.2138, 0.5395],\n",
            "         [0.3686, 0.4007],\n",
            "         [0.7220, 0.8217]],\n",
            "\n",
            "        [[0.2138, 0.5395],\n",
            "         [0.3686, 0.4007],\n",
            "         [0.7220, 0.8217]],\n",
            "\n",
            "        [[0.2138, 0.5395],\n",
            "         [0.3686, 0.4007],\n",
            "         [0.7220, 0.8217]]])\n",
            "tensor([[[0.2612, 0.2612],\n",
            "         [0.7375, 0.7375],\n",
            "         [0.8328, 0.8328]],\n",
            "\n",
            "        [[0.2612, 0.2612],\n",
            "         [0.7375, 0.7375],\n",
            "         [0.8328, 0.8328]],\n",
            "\n",
            "        [[0.2612, 0.2612],\n",
            "         [0.7375, 0.7375],\n",
            "         [0.8328, 0.8328]],\n",
            "\n",
            "        [[0.2612, 0.2612],\n",
            "         [0.7375, 0.7375],\n",
            "         [0.8328, 0.8328]]])\n",
            "tensor([[[0.8444, 0.2941],\n",
            "         [0.8444, 0.2941],\n",
            "         [0.8444, 0.2941]],\n",
            "\n",
            "        [[0.8444, 0.2941],\n",
            "         [0.8444, 0.2941],\n",
            "         [0.8444, 0.2941]],\n",
            "\n",
            "        [[0.8444, 0.2941],\n",
            "         [0.8444, 0.2941],\n",
            "         [0.8444, 0.2941]],\n",
            "\n",
            "        [[0.8444, 0.2941],\n",
            "         [0.8444, 0.2941],\n",
            "         [0.8444, 0.2941]]])\n"
          ]
        }
      ]
    },
    {
      "cell_type": "markdown",
      "source": [
        "위의 예시에 있는 각 tensor의 값을 자세히 살펴봅시다:\n",
        "\n",
        "- b 를 만드는 곱셈 연산은 a 의 모든 “계층” 에 broadcast 되었습니다.\n",
        "\n",
        "- c 에 대해서, 연산은 a 의 모든 계층과 행에 대해서 broadcast 되었습니다 - 모든 열은 3개의 원소값 모두 동일합니다.\n",
        "\n",
        "- d 에 대해서, 연산이 이전과 반대로 모든 계층과 열에 대해서 수행합니다 - 이재 모든 행 이 동일합니다.\n",
        "\n",
        "broadcasting에 대한 더 많은 정보는, PyTorch documentation 에 있는 주제를 참고하세요.\n",
        "\n",
        "다음 예시는 broadcasting 시도가 실패한 사례입니다:"
      ],
      "metadata": {
        "id": "_6nFiKKBRNb3"
      }
    },
    {
      "cell_type": "code",
      "source": [
        "a = torch.ones(4,3,2)\n",
        "b = a * torch.rand(4,3)\n",
        "c = a * torch.rand(2,3)\n",
        "d = a * torch.rand((0,))"
      ],
      "metadata": {
        "colab": {
          "base_uri": "https://localhost:8080/",
          "height": 224
        },
        "id": "5lO6fNLKQsnt",
        "outputId": "aed50de4-fb55-478e-e24d-779f5c323720"
      },
      "execution_count": 16,
      "outputs": [
        {
          "output_type": "error",
          "ename": "RuntimeError",
          "evalue": "The size of tensor a (2) must match the size of tensor b (3) at non-singleton dimension 2",
          "traceback": [
            "\u001b[0;31m---------------------------------------------------------------------------\u001b[0m",
            "\u001b[0;31mRuntimeError\u001b[0m                              Traceback (most recent call last)",
            "\u001b[0;32m<ipython-input-16-d7b666fef488>\u001b[0m in \u001b[0;36m<cell line: 2>\u001b[0;34m()\u001b[0m\n\u001b[1;32m      1\u001b[0m \u001b[0ma\u001b[0m \u001b[0;34m=\u001b[0m \u001b[0mtorch\u001b[0m\u001b[0;34m.\u001b[0m\u001b[0mones\u001b[0m\u001b[0;34m(\u001b[0m\u001b[0;36m4\u001b[0m\u001b[0;34m,\u001b[0m\u001b[0;36m3\u001b[0m\u001b[0;34m,\u001b[0m\u001b[0;36m2\u001b[0m\u001b[0;34m)\u001b[0m\u001b[0;34m\u001b[0m\u001b[0;34m\u001b[0m\u001b[0m\n\u001b[0;32m----> 2\u001b[0;31m \u001b[0mb\u001b[0m \u001b[0;34m=\u001b[0m \u001b[0ma\u001b[0m \u001b[0;34m*\u001b[0m \u001b[0mtorch\u001b[0m\u001b[0;34m.\u001b[0m\u001b[0mrand\u001b[0m\u001b[0;34m(\u001b[0m\u001b[0;36m4\u001b[0m\u001b[0;34m,\u001b[0m\u001b[0;36m3\u001b[0m\u001b[0;34m)\u001b[0m\u001b[0;34m\u001b[0m\u001b[0;34m\u001b[0m\u001b[0m\n\u001b[0m\u001b[1;32m      3\u001b[0m \u001b[0mc\u001b[0m \u001b[0;34m=\u001b[0m \u001b[0ma\u001b[0m \u001b[0;34m*\u001b[0m \u001b[0mtorch\u001b[0m\u001b[0;34m.\u001b[0m\u001b[0mrand\u001b[0m\u001b[0;34m(\u001b[0m\u001b[0;36m2\u001b[0m\u001b[0;34m,\u001b[0m\u001b[0;36m3\u001b[0m\u001b[0;34m)\u001b[0m\u001b[0;34m\u001b[0m\u001b[0;34m\u001b[0m\u001b[0m\n\u001b[1;32m      4\u001b[0m \u001b[0md\u001b[0m \u001b[0;34m=\u001b[0m \u001b[0ma\u001b[0m \u001b[0;34m*\u001b[0m \u001b[0mtorch\u001b[0m\u001b[0;34m.\u001b[0m\u001b[0mrand\u001b[0m\u001b[0;34m(\u001b[0m\u001b[0;34m(\u001b[0m\u001b[0;36m0\u001b[0m\u001b[0;34m,\u001b[0m\u001b[0;34m)\u001b[0m\u001b[0;34m)\u001b[0m\u001b[0;34m\u001b[0m\u001b[0;34m\u001b[0m\u001b[0m\n",
            "\u001b[0;31mRuntimeError\u001b[0m: The size of tensor a (2) must match the size of tensor b (3) at non-singleton dimension 2"
          ]
        }
      ]
    },
    {
      "cell_type": "markdown",
      "source": [
        "## Tensor를 사용하는 다양한 연산들\n",
        "PyTorch tensor는 tensor들 끼리 수행할 수 있는 300개 이상의 연산을 가지고 있습니다.\n",
        "\n",
        "다음 작은 예시는 주로 사용하는 연산 종류 몇 개를 보여줍니다:"
      ],
      "metadata": {
        "id": "SRfHUxHtRygK"
      }
    },
    {
      "cell_type": "code",
      "source": [
        "a = torch.rand(2,4) * 2 -1\n",
        "print('Common functions:')\n",
        "print(torch.abs(a))\n",
        "print(torch.ceil(a))\n",
        "print(torch.floor(a))\n",
        "print(torch.clamp(a, -0.5,0.5))\n",
        "\n",
        "angles = torch.tensor([0, math.pi/4, math.pi /2,3*math.pi/4])\n",
        "sines = torch.sin(angles)\n",
        "inverses = torch.asin(sines)\n",
        "print('\\n Sine and arcsine')\n",
        "print(angles)\n",
        "print(sines)\n",
        "print(inverses)\n",
        "\n",
        "\n",
        "print('\\nBitwise XOR:')\n",
        "b = torch.tensor([1,5,11])\n",
        "c = torch.tensor([2,7,10])\n",
        "print(torch.bitwise_xor(b,c))\n",
        "\n",
        "print('\\n Broadcasted, element-wise equality comparison:')\n",
        "d = torch.tensor([[1.,2.],[3.,4.]])\n",
        "e = torch.ones(1,2)\n",
        "print(torch.eq(d,e))\n",
        "\n",
        "print('\\nReduction ops:')\n",
        "print(torch.max(d))\n",
        "print(torch.max(d).item())\n",
        "print(torch.mean(d))\n",
        "print(torch.std(d))\n",
        "print(torch.prod(d))\n",
        "print(torch.unique(torch.tensor([1,2,1,2,1,2])))\n",
        "\n",
        "v1 = torch.tensor([1.,0.,0.])\n",
        "v2 = torch.tensor([0.,1.,0.])\n",
        "m1 = torch.rand(2,2)\n",
        "m2 = torch.tensor([[3.,0.],[0.,3.]])\n",
        "\n",
        "print('\\nVectors & Matrices:')\n",
        "print(torch.cross(v2, v1))\n",
        "print(m1)\n",
        "m3 = torch.matmul(m1,m2)\n",
        "print(m3)\n",
        "print(torch.svd(m3))"
      ],
      "metadata": {
        "colab": {
          "base_uri": "https://localhost:8080/"
        },
        "id": "48bfFtCqRg1I",
        "outputId": "297929ec-2a1f-4a43-dc40-07b5b036ea72"
      },
      "execution_count": 19,
      "outputs": [
        {
          "output_type": "stream",
          "name": "stdout",
          "text": [
            "Common functions:\n",
            "tensor([[0.8928, 0.9773, 0.0365, 0.9614],\n",
            "        [0.3090, 0.1713, 0.8608, 0.0704]])\n",
            "tensor([[1., -0., 1., 1.],\n",
            "        [1., -0., -0., -0.]])\n",
            "tensor([[ 0., -1.,  0.,  0.],\n",
            "        [ 0., -1., -1., -1.]])\n",
            "tensor([[ 0.5000, -0.5000,  0.0365,  0.5000],\n",
            "        [ 0.3090, -0.1713, -0.5000, -0.0704]])\n",
            "\n",
            " Sine and arcsine\n",
            "tensor([0.0000, 0.7854, 1.5708, 2.3562])\n",
            "tensor([0.0000, 0.7071, 1.0000, 0.7071])\n",
            "tensor([0.0000, 0.7854, 1.5708, 0.7854])\n",
            "\n",
            "Bitwise XOR:\n",
            "tensor([3, 2, 1])\n",
            "\n",
            " Broadcasted, element-wise equality comparison:\n",
            "tensor([[ True, False],\n",
            "        [False, False]])\n",
            "\n",
            "Reduction ops:\n",
            "tensor(4.)\n",
            "4.0\n",
            "tensor(2.5000)\n",
            "tensor(1.2910)\n",
            "tensor(24.)\n",
            "tensor([1, 2])\n",
            "\n",
            "Vectors & Matrices:\n",
            "tensor([ 0.,  0., -1.])\n",
            "tensor([[0.4491, 0.6265],\n",
            "        [0.9411, 0.4922]])\n",
            "tensor([[1.3473, 1.8796],\n",
            "        [2.8234, 1.4766]])\n",
            "torch.return_types.svd(\n",
            "U=tensor([[-0.5732, -0.8194],\n",
            "        [-0.8194,  0.5732]]),\n",
            "S=tensor([3.8411, 0.8637]),\n",
            "V=tensor([[-0.8034,  0.5955],\n",
            "        [-0.5955, -0.8034]]))\n"
          ]
        },
        {
          "output_type": "stream",
          "name": "stderr",
          "text": [
            "<ipython-input-19-18f816605a8d>:41: UserWarning: Using torch.cross without specifying the dim arg is deprecated.\n",
            "Please either pass the dim explicitly or simply use torch.linalg.cross.\n",
            "The default value of dim will change to agree with that of linalg.cross in a future release. (Triggered internally at ../aten/src/ATen/native/Cross.cpp:63.)\n",
            "  print(torch.cross(v2, v1))\n"
          ]
        }
      ]
    },
    {
      "cell_type": "markdown",
      "source": [
        "이것은 수많은 연산의 일부분입니다. 더 자세한 내용이나 수학 함수의 전체적인 목록은, 다음 documentation 를 읽어주세요.\n",
        "\n",
        "## Tensor의 값을 변경하기\n",
        "대부분 tensor들의 이진 연산은 제3자의 새로운 tensor를 생성합니다. c = a * b ( a 와 b 는 tensor)연산을 수행할 때, 새로운 tensor c 는 다른 tensor와 구별되는 메모리 영역을 차지하게 됩니다.\n",
        "\n",
        "그럼에도 불구하고 tensor의 값을 변경하고 싶은 순간이 있을 수 있습니다 - 예를 들어, 중간 연산 결과 값을 버릴 수 있는 각 원소 단위 연산을 수행하는 경우가 있습니다. 이런 연산을 위해, 대부분의 수학 함수들은 tensor 내부의 값을 변경할 수 있는 함수 이름 맨 뒤에 밑줄 (_)이 추가된 버전을 가지고 있습니다.\n"
      ],
      "metadata": {
        "id": "M7_JvaL1VRs1"
      }
    },
    {
      "cell_type": "code",
      "source": [
        "a = torch.tensor([0, math.pi / 4, math.pi /2 ,3* math.pi / 4])\n",
        "print('a: ')\n",
        "print(a)\n",
        "print(torch.sin(a))\n",
        "print(a)\n",
        "\n",
        "b = torch.tensor([0, math.pi / 4, math.pi / 2, 3 * math.pi / 4])\n",
        "print('\\nb:')\n",
        "print(b)\n",
        "print(torch.sin_(b))\n",
        "print(b)"
      ],
      "metadata": {
        "colab": {
          "base_uri": "https://localhost:8080/"
        },
        "id": "GN-UnLtoUUY1",
        "outputId": "47945424-388a-4e3a-fe13-cf7936d8e2cf"
      },
      "execution_count": 20,
      "outputs": [
        {
          "output_type": "stream",
          "name": "stdout",
          "text": [
            "a: \n",
            "tensor([0.0000, 0.7854, 1.5708, 2.3562])\n",
            "tensor([0.0000, 0.7071, 1.0000, 0.7071])\n",
            "tensor([0.0000, 0.7854, 1.5708, 2.3562])\n",
            "\n",
            "b:\n",
            "tensor([0.0000, 0.7854, 1.5708, 2.3562])\n",
            "tensor([0.0000, 0.7071, 1.0000, 0.7071])\n",
            "tensor([0.0000, 0.7071, 1.0000, 0.7071])\n"
          ]
        }
      ]
    },
    {
      "cell_type": "markdown",
      "source": [
        "산술 연산에서, 비슷한 행동을 하는 함수가 있습니다:"
      ],
      "metadata": {
        "id": "koQqKXIZWXsr"
      }
    },
    {
      "cell_type": "code",
      "source": [
        "a = torch.ones(2,2)\n",
        "b = torch.rand(2,2)\n",
        "\n",
        "print('Before:')\n",
        "print(a)\n",
        "print(b)\n",
        "print('\\nAfter adding:')\n",
        "print(a.add_(b))\n",
        "print(a)\n",
        "print(b)\n",
        "print('\\nAfter multiplying')\n",
        "print(b.mul_(b))\n",
        "print(b)"
      ],
      "metadata": {
        "colab": {
          "base_uri": "https://localhost:8080/"
        },
        "id": "lR65NmGWV2ml",
        "outputId": "dca9ed29-9700-44f5-e044-6f9e4b5ebafd"
      },
      "execution_count": 21,
      "outputs": [
        {
          "output_type": "stream",
          "name": "stdout",
          "text": [
            "Before:\n",
            "tensor([[1., 1.],\n",
            "        [1., 1.]])\n",
            "tensor([[0.5461, 0.5396],\n",
            "        [0.3053, 0.1973]])\n",
            "\n",
            "After adding:\n",
            "tensor([[1.5461, 1.5396],\n",
            "        [1.3053, 1.1973]])\n",
            "tensor([[1.5461, 1.5396],\n",
            "        [1.3053, 1.1973]])\n",
            "tensor([[0.5461, 0.5396],\n",
            "        [0.3053, 0.1973]])\n",
            "\n",
            "After multiplying\n",
            "tensor([[0.2982, 0.2912],\n",
            "        [0.0932, 0.0389]])\n",
            "tensor([[0.2982, 0.2912],\n",
            "        [0.0932, 0.0389]])\n"
          ]
        }
      ]
    },
    {
      "cell_type": "markdown",
      "source": [
        "이러한 내부의 값을 변경하는 산술 함수는 다른 많은 함수들 (e.g., torch.sin())처럼 torch 모듈의 메소드가 아니라 torch.Tensor 객체의 메소드인 점에 주목해야 합니다. a.add_(b) 와 같은 경우처럼, 메소드를 호출하는 tensor는 값이 변경됩니다.\n",
        "\n",
        "이미 존재하고 있는 메모리에 할당된 tensor에 계산 결과값을 저장하는 또 다른 옵션이 있습니다. tensor를 생성하는 메소드 뿐만 아니라 지금까지 이 문서에서 봤던 수많은 함수나 메소드는 결과 값을 받는 특정 tensor를 명시하는 out 이라는 인자를 가지고 있습니다. 만약 out tensor가 알맞은 shape와 dtype 을 가지고 있다면, 새로운 메모리 할당 없이 결과값이 저장됩니다:"
      ],
      "metadata": {
        "id": "6xhRaFfxX1cC"
      }
    },
    {
      "cell_type": "code",
      "source": [
        "a = torch.rand(2,2)\n",
        "b = torch.rand(2,2)\n",
        "c = torch.zeros(2,2)\n",
        "old_id = id(c)\n",
        "\n",
        "print(c)\n",
        "d = torch.matmul(a,b, out = c)\n",
        "print(c)\n",
        "\n",
        "assert c is d\n",
        "assert id(c) == old_id\n",
        "\n",
        "torch.rand(2,2, out=c)\n",
        "print(c)\n",
        "assert id(c) == old_id"
      ],
      "metadata": {
        "colab": {
          "base_uri": "https://localhost:8080/"
        },
        "id": "6eIfc6eqW0m_",
        "outputId": "961bbb12-04ff-40be-d830-dd8b1083d20b"
      },
      "execution_count": 24,
      "outputs": [
        {
          "output_type": "stream",
          "name": "stdout",
          "text": [
            "tensor([[0., 0.],\n",
            "        [0., 0.]])\n",
            "tensor([[0.5022, 0.7629],\n",
            "        [0.5324, 0.7356]])\n",
            "tensor([[0.4460, 0.9289],\n",
            "        [0.6293, 0.6264]])\n"
          ]
        }
      ]
    },
    {
      "cell_type": "markdown",
      "source": [
        "##  Tensor를 복사하기\n",
        "파이썬의 다른 객체와 마찬가지로 변수에 tensor를 할당하는 것은 변수가 tensor의 label 이 되고 값을 복사하지 않습니다. 다음 예시를 보시죠:"
      ],
      "metadata": {
        "id": "GXamIpsRZmck"
      }
    },
    {
      "cell_type": "code",
      "source": [
        "a = torch.ones(2,2)\n",
        "b = a\n",
        "\n",
        "a[0][1] = 561\n",
        "print(b)"
      ],
      "metadata": {
        "colab": {
          "base_uri": "https://localhost:8080/"
        },
        "id": "JtYqBEXhYmHF",
        "outputId": "5e565627-df7c-4575-91bc-fcc3b8228de6"
      },
      "execution_count": 25,
      "outputs": [
        {
          "output_type": "stream",
          "name": "stdout",
          "text": [
            "tensor([[  1., 561.],\n",
            "        [  1.,   1.]])\n"
          ]
        }
      ]
    },
    {
      "cell_type": "markdown",
      "source": [
        "하지만 만약 우리가 작업할 별도의 데이터 복사본을 원하면 어떻게 해야할까요? clone() 메소드가 당신이 찾던 해답이 될 것입니다:"
      ],
      "metadata": {
        "id": "ARZLE8ZCaL1l"
      }
    },
    {
      "cell_type": "code",
      "source": [
        "a = torch.ones(2,2)\n",
        "b = a.clone()\n",
        "\n",
        "assert b is not a\n",
        "print(torch.eq(a,b))\n",
        "\n",
        "a[0][1] = 561\n",
        "print(b)"
      ],
      "metadata": {
        "colab": {
          "base_uri": "https://localhost:8080/"
        },
        "id": "eU3gULiyZ6cD",
        "outputId": "e3844e67-57e9-4e0f-cea8-e5950a18ace8"
      },
      "execution_count": 26,
      "outputs": [
        {
          "output_type": "stream",
          "name": "stdout",
          "text": [
            "tensor([[True, True],\n",
            "        [True, True]])\n",
            "tensor([[1., 1.],\n",
            "        [1., 1.]])\n"
          ]
        }
      ]
    },
    {
      "cell_type": "markdown",
      "source": [
        "``clone()`` 메소드를 사용할 때 알아야 할 중요한 점이 있습니다. 만약 source tensor가 autograd를 가진다면 clone이 가능합니다. 이 부분은 autograd와 관련된 동영상에서 더 깊이 다룰 것 입니다. 하지만 만약 자세한 내용을 간단히 알고 싶다면 계속 설명하겠습니다.\n",
        "\n",
        "대부분의 경우에서 이것이 바로 여러분이 원하는 것입니다. 예를 들어, 만약 여러분의 모델이 그 모델의 forward() 메소드에 여러 갈래의 계산 경로가 있고 원본 tensor와 그것의 복제본 모두 가 모델의 출력에 기여를 한다면, 두 tensor에 대한 autograd를 설정하는 모델 학습을 활성화 합니다. 만약 여러분의 source tensor가 autograd를 사용할 수 있다면 (일반적으로 학습 가중치의 집합이거나, 가중치를 포함하는 계산에서 파생된 경우), 여러분이 원하는 결과를 얻을 수 있습니다.\n",
        "\n",
        "반면에 원본 tensor나 그것의 복제본 모두 가 변화도를 추적할 필요가 없다면, source tensor의 autograd가 꺼져있다면 clone을 사용할 수 있습니다.\n",
        "\n",
        "그러나 세번째 경우 가 있습니다: 기본적으로 변화도가 모든 것을 위해 켜져있지만 일부 지표를 생성하기 위해서 스트림 중간에서 일부 값을 생성하고 싶어 하는 여러분 모델의 forward() 함수에서 계산을 수행한다고 상상해 보세요. 이 경우에는 변화도를 추적하기 위해서 source tensor의 복제본을 원하지 않을 수 있습니다 - 성능이 autograd의 히스토리 추적 기능을 끄면서 향상됩니다. 이 경우를 위해서는 source tensor에 .detach() 메소드를 사용할 수 있습니다:"
      ],
      "metadata": {
        "id": "xdwUceuObPXH"
      }
    },
    {
      "cell_type": "code",
      "source": [
        "a = torch.rand(2,2,requires_grad=True)\n",
        "print(a)\n",
        "\n",
        "b = a.clone()\n",
        "print(b)\n",
        "\n",
        "c = a.detach().clone()\n",
        "print(c)\n",
        "\n",
        "print(a)"
      ],
      "metadata": {
        "colab": {
          "base_uri": "https://localhost:8080/"
        },
        "id": "qRk7sP_RacWh",
        "outputId": "23f3c50e-0d47-4c03-f6c4-32e25a9b6a10"
      },
      "execution_count": 27,
      "outputs": [
        {
          "output_type": "stream",
          "name": "stdout",
          "text": [
            "tensor([[0.4704, 0.6077],\n",
            "        [0.4757, 0.5874]], requires_grad=True)\n",
            "tensor([[0.4704, 0.6077],\n",
            "        [0.4757, 0.5874]], grad_fn=<CloneBackward0>)\n",
            "tensor([[0.4704, 0.6077],\n",
            "        [0.4757, 0.5874]])\n",
            "tensor([[0.4704, 0.6077],\n",
            "        [0.4757, 0.5874]], requires_grad=True)\n"
          ]
        }
      ]
    },
    {
      "cell_type": "markdown",
      "source": [
        "여기서 무슨 일이 일어나는걸까요?\n",
        "\n",
        "- a 를 requires_grad=True 옵션을 킨 상태로 생성합니다. 아직 이 선택적 인자를 다루지 않았지만, autograd 단원 동안만 다룰 것입니다.\n",
        "\n",
        "- a 를 출력할 때, requires_grad=True 속성을 가지고 있다고 알려줍니다 - 이 뜻은 autograd와 계산 히스토리 추적 기능을 켠다는 것입니다.\n",
        "\n",
        "- a 를 복제하고 그것을 b 라고 라벨을 붙입니다. b 를 출력할 때, 그것의 계산 히스토리가 추적되고 있다는 것을 확인할 수 있습니다 - a 의 autograd 설정에 내장되어 있는 기능이며, 이 설정은 계산 히스토리에 추가합니다.\n",
        "\n",
        "- a 를 c 에 복제를 하지만 detach() 를 먼저 호출을 합니다.\n",
        "\n",
        "- c 를 출력합니다. 계산 히스토리가 없다는 것을 확인할 수 있고, requires_grad=True 옵션이 없다는 것 또한 확인할 수 있습니다.\n",
        "\n",
        "detach() 메소드는 tensor의 계산 히스토리로 부터 tensor를 떼어냅니다. 이 메소드의 의미는 “메소드 뒤에 어떤 것이든 와도 autograd를 끈 것처럼 작동하라.“ 라는 뜻입니다. a 를 변경하지 않고 이 메소드를 수행합니다 - 마지막에 a 를 다시 출력할 때, 여전히 a 가 가진 requires_grad=True 속성이 남아 있다는 것을 확인할 수 있습니다.\n",
        "\n",
        "## GPU 환경으로 이동하기\n",
        "PyTorch의 주된 장점중 하나는 CUDA가 호환되는 Nvidia GPU에서의 강력한 성능 가속화입니다. (“CUDA” 는 Compute Unified Device Architecture 의 약자이며, 병렬 컴퓨팅을 위한 Nvidia의 플랫폼입니다.) 지금까지 모든 작업을 CPU에서 처리했습니다. 어떻게 더 빠른 하드웨어로 이동할 수 있을까요?\n",
        "\n",
        "먼저 is_available() 메소드를 사용해서 GPU가 사용 가능한지 아닌지 확인해야 합니다."
      ],
      "metadata": {
        "id": "ZjNf_zSDcrya"
      }
    },
    {
      "cell_type": "code",
      "source": [
        "if torch.cuda.is_available():\n",
        "  print('We have a GPU!')\n",
        "else:\n",
        "  print('Sorry, CPU only.')"
      ],
      "metadata": {
        "colab": {
          "base_uri": "https://localhost:8080/"
        },
        "id": "_13sz_4UbpN7",
        "outputId": "86ea8c05-2d81-4d51-cb89-a31981b53976"
      },
      "execution_count": 29,
      "outputs": [
        {
          "output_type": "stream",
          "name": "stdout",
          "text": [
            "We have a GPU!\n"
          ]
        }
      ]
    },
    {
      "cell_type": "markdown",
      "source": [
        "일단 1개 혹은 그 이상의 GPU가 사용 가능하다는 것을 확인했다면, 데이터를 GPU가 확인할 수 있는 어떤 공간에 저장할 필요가 있습니다. CPU는 컴퓨터의 RAM에서 데이터를 이용해서 계산을 수행합니다. GPU는 전용 메모리가 연결되어 있습니다. 해당 장치에서 계산을 수행하고 싶을 때마다 계산에 필요한 모든 데이터를 GPU장치가 접근 가능한 메모리로 이동해야 합니다. (평소에는 “GPU가 접근 가능한 메모리로 데이터를 이동한다“ 를 “데이터를 GPU로 옮긴다“ 라고 줄여서 말합니다.)\n",
        "\n",
        "목적 장치에서 데이터를 가져오는 다양한 방법이 있습니다. 객체를 생성할 때 데이터를 가져올 수 있습니다:"
      ],
      "metadata": {
        "id": "4T3BJaZJdRP_"
      }
    },
    {
      "cell_type": "code",
      "source": [
        "if torch.cuda.is_available():\n",
        "  gpu_rand = torch.rand(2,2, device='cuda')\n",
        "  print(gpu_rand)\n",
        "else:\n",
        "  print('Sorry, CPU only.')"
      ],
      "metadata": {
        "colab": {
          "base_uri": "https://localhost:8080/"
        },
        "id": "9KthystGdNBz",
        "outputId": "e7db7a32-9268-45da-cf0f-dff9320a0812"
      },
      "execution_count": 30,
      "outputs": [
        {
          "output_type": "stream",
          "name": "stdout",
          "text": [
            "tensor([[0.3344, 0.2640],\n",
            "        [0.2119, 0.0582]], device='cuda:0')\n"
          ]
        }
      ]
    },
    {
      "cell_type": "code",
      "source": [
        "if torch.cuda.is_available():\n",
        "  my_device = torch.device('cuda')\n",
        "else:\n",
        "  my_device = torch.device('cpu')\n",
        "print('Device: {}'.format(my_device))\n",
        "\n",
        "x = torch.rand(2,2,device=my_device)\n",
        "print(x)"
      ],
      "metadata": {
        "colab": {
          "base_uri": "https://localhost:8080/"
        },
        "id": "rpbJPmEpd5sF",
        "outputId": "8d2d2f56-6227-4bcb-f7dc-0c3ede9efcc5"
      },
      "execution_count": 32,
      "outputs": [
        {
          "output_type": "stream",
          "name": "stdout",
          "text": [
            "Device: cuda\n",
            "tensor([[0.0024, 0.6778],\n",
            "        [0.2441, 0.6812]], device='cuda:0')\n"
          ]
        }
      ]
    },
    {
      "cell_type": "markdown",
      "source": [
        "만약 한 장치에 tensor가 있을 때, to() 메소드를 사용해서 다른 장치로 이동할 수 있습니다. 다음 코드는 CPU에 tensor를 생성하고, 이전 cell에서 얻은 장치 핸들러로 tensor를 이동합니다."
      ],
      "metadata": {
        "id": "xMO7ZrAvfGuU"
      }
    },
    {
      "cell_type": "code",
      "source": [
        "y = torch.rand(2,2)\n",
        "y = y.to(my_device)"
      ],
      "metadata": {
        "id": "u3d-eWXcerJf"
      },
      "execution_count": 34,
      "outputs": []
    },
    {
      "cell_type": "markdown",
      "source": [
        "2개 혹은 그 이상의 tensor를 포함한 계산을 하기 위해서는 모든 tensor가 같은 장치에 있어야 한다 는 것을 아는 것이 중요합니다. 다음 코드는 GPU 장치가 사용 가능 하다는 것과 관계없이 runtime error를 발생할 것입니다:"
      ],
      "metadata": {
        "id": "M9pLxkeqfmN0"
      }
    },
    {
      "cell_type": "code",
      "source": [
        "x = torch.rand(2,2)\n",
        "y = torch.rand(2,2, device='gpu')\n",
        "z = x + y"
      ],
      "metadata": {
        "colab": {
          "base_uri": "https://localhost:8080/",
          "height": 224
        },
        "id": "fZxYjxDFfUfC",
        "outputId": "d7d68cf5-08fa-468b-d1c1-3e3729fbdcdc"
      },
      "execution_count": 35,
      "outputs": [
        {
          "output_type": "error",
          "ename": "RuntimeError",
          "evalue": "Expected one of cpu, cuda, ipu, xpu, mkldnn, opengl, opencl, ideep, hip, ve, fpga, ort, xla, lazy, vulkan, mps, meta, hpu, mtia, privateuseone device type at start of device string: gpu",
          "traceback": [
            "\u001b[0;31m---------------------------------------------------------------------------\u001b[0m",
            "\u001b[0;31mRuntimeError\u001b[0m                              Traceback (most recent call last)",
            "\u001b[0;32m<ipython-input-35-86fd0a4437ff>\u001b[0m in \u001b[0;36m<cell line: 2>\u001b[0;34m()\u001b[0m\n\u001b[1;32m      1\u001b[0m \u001b[0mx\u001b[0m \u001b[0;34m=\u001b[0m \u001b[0mtorch\u001b[0m\u001b[0;34m.\u001b[0m\u001b[0mrand\u001b[0m\u001b[0;34m(\u001b[0m\u001b[0;36m2\u001b[0m\u001b[0;34m,\u001b[0m\u001b[0;36m2\u001b[0m\u001b[0;34m)\u001b[0m\u001b[0;34m\u001b[0m\u001b[0;34m\u001b[0m\u001b[0m\n\u001b[0;32m----> 2\u001b[0;31m \u001b[0my\u001b[0m \u001b[0;34m=\u001b[0m \u001b[0mtorch\u001b[0m\u001b[0;34m.\u001b[0m\u001b[0mrand\u001b[0m\u001b[0;34m(\u001b[0m\u001b[0;36m2\u001b[0m\u001b[0;34m,\u001b[0m\u001b[0;36m2\u001b[0m\u001b[0;34m,\u001b[0m \u001b[0mdevice\u001b[0m\u001b[0;34m=\u001b[0m\u001b[0;34m'gpu'\u001b[0m\u001b[0;34m)\u001b[0m\u001b[0;34m\u001b[0m\u001b[0;34m\u001b[0m\u001b[0m\n\u001b[0m\u001b[1;32m      3\u001b[0m \u001b[0mz\u001b[0m \u001b[0;34m=\u001b[0m \u001b[0mx\u001b[0m \u001b[0;34m+\u001b[0m \u001b[0my\u001b[0m\u001b[0;34m\u001b[0m\u001b[0;34m\u001b[0m\u001b[0m\n",
            "\u001b[0;31mRuntimeError\u001b[0m: Expected one of cpu, cuda, ipu, xpu, mkldnn, opengl, opencl, ideep, hip, ve, fpga, ort, xla, lazy, vulkan, mps, meta, hpu, mtia, privateuseone device type at start of device string: gpu"
          ]
        }
      ]
    },
    {
      "cell_type": "markdown",
      "source": [
        "## Tensor의 shape 다루기\n",
        "때로는 tensor의 shape를 변환할 필요가 있습니다. 아래에 있는 몇 가지 흔한 경우와 함께 tensor의 shape를 다루는 방법에 대해 알아볼 것 입니다.\n",
        "\n",
        "### 차원의 개수 변경하기\n",
        "차원의 개수를 변경할 필요가 있는 한가지 경우는 모델의 입력에 단일 인스턴스를 전달할 때 입니다. PyTorch 모델은 일반적으로 입력에 배치 가 들어오기를 기대합니다.\n",
        "\n",
        "예를 들어, 3개의 색깔 채널을 가진 226픽셀 정사각형 이미지인 3 x 226 x 226 개 데이터와 함께 작동하는 모델을 가지고 있다고 상상해보세요. 이미지를 불러오고 tensor로 변환하면 (3, 226, 226) shape를 가진 tensor가 됩니다. 그럼에도 불구하고 이 모델은 (N, 3, 226, 226) shape를 가진 tensor를 입력으로 기대합니다. 이때 N 은 배치에 포함된 이미지의 개수입니다. 그렇다면 어떻게 한 배치를 만들 수 있을까요?"
      ],
      "metadata": {
        "id": "fbEbCcntgUxt"
      }
    },
    {
      "cell_type": "code",
      "source": [
        "a = torch.rand(3, 226, 226)\n",
        "b = a.unsqueeze(0)\n",
        "\n",
        "print(a.shape)\n",
        "print(b.shape)"
      ],
      "metadata": {
        "colab": {
          "base_uri": "https://localhost:8080/"
        },
        "id": "g70yqJCZfv0H",
        "outputId": "30e57ffd-707c-476d-b4c4-747df975b209"
      },
      "execution_count": 36,
      "outputs": [
        {
          "output_type": "stream",
          "name": "stdout",
          "text": [
            "torch.Size([3, 226, 226])\n",
            "torch.Size([1, 3, 226, 226])\n"
          ]
        }
      ]
    },
    {
      "cell_type": "markdown",
      "source": [
        "unsqueeze() 메소드는 크기가 1인 차원을 추가합니다. unsqueeze(0) 는 새로운 0번째 차원을 추가합니다 - 이제 한 배치를 가지게 되었습니다!\n",
        "\n",
        "이게 unsqueezing이면, squeezing은 무슨 뜻 일까요? 여기서는 차원을 하나 확장해도 tensor에 있는 원소의 개수는 변하지 않는다 는 사실을 이용하고 있습니다"
      ],
      "metadata": {
        "id": "E3DJLCBng2TH"
      }
    },
    {
      "cell_type": "code",
      "source": [
        "c = torch.rand(1,1,1,1,1)\n",
        "print(c)"
      ],
      "metadata": {
        "colab": {
          "base_uri": "https://localhost:8080/"
        },
        "id": "iLCMaeoGgpc4",
        "outputId": "13b56410-866e-4fb4-bb07-c3560ce678ae"
      },
      "execution_count": 37,
      "outputs": [
        {
          "output_type": "stream",
          "name": "stdout",
          "text": [
            "tensor([[[[[0.7293]]]]])\n"
          ]
        }
      ]
    },
    {
      "cell_type": "markdown",
      "source": [
        "위의 예제에 이어서 각 입력 값에 대한 모델의 출력 값이 20개의 원소를 가진 vector라고 생각해봅시다. 그렇다면 N 이 입력 배치에 있는 인스턴스의 개수라고 할 때, 출력 값의 shape는 (N, 20) 라고 기대할 수 있습니다. 이 뜻은 입력으로 단일 배치가 들어왔을 때, (1, 20) 의 shape를 가진 출력 값을 얻는다는 것 입니다.\n",
        "\n",
        "만약 그저 20개의 원소를 가진 벡터와 같이 - 배치 shape가 아닌 연산 결과를 얻고 싶으면 어떻게 해야할까요?"
      ],
      "metadata": {
        "id": "BcvYfGblhOMv"
      }
    },
    {
      "cell_type": "code",
      "source": [
        "a = torch.rand(1,20)\n",
        "print(a.shape)\n",
        "print(a)\n",
        "\n",
        "b = a.squeeze(0)\n",
        "print(b.shape)\n",
        "print(b)\n",
        "\n",
        "c = torch.rand(2,2)\n",
        "print(c.shape)\n",
        "\n",
        "d = c.squeeze(0)\n",
        "print(d.shape)"
      ],
      "metadata": {
        "colab": {
          "base_uri": "https://localhost:8080/"
        },
        "id": "j2YZYpwWg7DW",
        "outputId": "77011cb2-8356-4b1f-b3dc-569fae9b6ab8"
      },
      "execution_count": 38,
      "outputs": [
        {
          "output_type": "stream",
          "name": "stdout",
          "text": [
            "torch.Size([1, 20])\n",
            "tensor([[0.5351, 0.5078, 0.8012, 0.5088, 0.3142, 0.8068, 0.6503, 0.4621, 0.6882,\n",
            "         0.7282, 0.9156, 0.4836, 0.1451, 0.7946, 0.4126, 0.1625, 0.9214, 0.2327,\n",
            "         0.5813, 0.7089]])\n",
            "torch.Size([20])\n",
            "tensor([0.5351, 0.5078, 0.8012, 0.5088, 0.3142, 0.8068, 0.6503, 0.4621, 0.6882,\n",
            "        0.7282, 0.9156, 0.4836, 0.1451, 0.7946, 0.4126, 0.1625, 0.9214, 0.2327,\n",
            "        0.5813, 0.7089])\n",
            "torch.Size([2, 2])\n",
            "torch.Size([2, 2])\n"
          ]
        }
      ]
    },
    {
      "cell_type": "markdown",
      "source": [
        "결과로 나온 shape로 부터 2차원 tensor가 이제 1차원으로 바뀐 것을 볼 수 있고, 위에 있는 cell의 결과를 자세히 보면 추가적인 차원을 가졌기 때문에 a 를 출력하는 것에서 “추가” 대괄호 집합 [] 을 볼 수 있습니다.\n",
        "\n",
        "오직 차원의 값이 1인 경우에만 squeeze() 를 사용할 수 있습니다. c 에서 크기가 2인 차원을 squeeze 하려고 하는 위 예시를 보면, 처음 그 shape로 다시 돌아온다는 사실을 알 수 있습니다. squeeze() 와 unsqueeze() 를 호출하는 것은 오직 차원의 크기가 1일 때만 작동합니다. 왜냐하면 이 경우가 아니면 tensor의 원소 개수가 바뀌기 때문입니다.\n",
        "\n",
        "unsqueeze() 는 broadcasting을 쉽게 하는 경우에도 사용합니다. 다음 코드를 보고 이전 예시를 떠올려 보세요:"
      ],
      "metadata": {
        "id": "zCh_CgO5iRX2"
      }
    },
    {
      "cell_type": "code",
      "source": [
        "a = torch.ones(4,3,2)\n",
        "c =a *torch.rand(3,1)\n",
        "print(c)"
      ],
      "metadata": {
        "colab": {
          "base_uri": "https://localhost:8080/"
        },
        "id": "Lj3y7gGlhlXE",
        "outputId": "2184a4e4-8cd9-4890-d121-adf592ffb923"
      },
      "execution_count": 39,
      "outputs": [
        {
          "output_type": "stream",
          "name": "stdout",
          "text": [
            "tensor([[[0.6042, 0.6042],\n",
            "         [0.7966, 0.7966],\n",
            "         [0.6166, 0.6166]],\n",
            "\n",
            "        [[0.6042, 0.6042],\n",
            "         [0.7966, 0.7966],\n",
            "         [0.6166, 0.6166]],\n",
            "\n",
            "        [[0.6042, 0.6042],\n",
            "         [0.7966, 0.7966],\n",
            "         [0.6166, 0.6166]],\n",
            "\n",
            "        [[0.6042, 0.6042],\n",
            "         [0.7966, 0.7966],\n",
            "         [0.6166, 0.6166]]])\n"
          ]
        }
      ]
    },
    {
      "cell_type": "markdown",
      "source": [
        "broadcast의 순수한 효과는 차원 0과 차원 2에 대한 연산을 broadcast해서 무작위 3 x 1 shape의 tensor를 a 의 원소 개수가 3인 모든 열에 곱하는 것이었습니다.\n",
        "\n",
        "만약 무작위 벡터가 오직 3개의 원소만을 가지면 어떻게 될까요? broadcast를 할 능력을 잃어버리게 됩니다, 왜냐하면 마지막 차원이 broadcasting 규칙에 맞지 않기 때문입니다. 하지만 unsqueeze() 가 도와줍니다:"
      ],
      "metadata": {
        "id": "647K_M67kTBF"
      }
    },
    {
      "cell_type": "code",
      "source": [
        "a = torch.ones(4,3,2)\n",
        "b = torch.rand(3)\n",
        "c = b.unsqueeze(1)\n",
        "print(c.shape)\n",
        "print(a * c)"
      ],
      "metadata": {
        "colab": {
          "base_uri": "https://localhost:8080/"
        },
        "id": "L6Fh7ibliZYp",
        "outputId": "be11e5b2-7b77-45fc-dd0c-928269a18332"
      },
      "execution_count": 40,
      "outputs": [
        {
          "output_type": "stream",
          "name": "stdout",
          "text": [
            "torch.Size([3, 1])\n",
            "tensor([[[0.6064, 0.6064],\n",
            "         [0.9906, 0.9906],\n",
            "         [0.0350, 0.0350]],\n",
            "\n",
            "        [[0.6064, 0.6064],\n",
            "         [0.9906, 0.9906],\n",
            "         [0.0350, 0.0350]],\n",
            "\n",
            "        [[0.6064, 0.6064],\n",
            "         [0.9906, 0.9906],\n",
            "         [0.0350, 0.0350]],\n",
            "\n",
            "        [[0.6064, 0.6064],\n",
            "         [0.9906, 0.9906],\n",
            "         [0.0350, 0.0350]]])\n"
          ]
        }
      ]
    },
    {
      "cell_type": "markdown",
      "source": [
        "squeeze() 와 unsqueeze() 메소드는 tensor 자체의 값을 변경하는 squeeze_() 와 unsqueeze_() 또한 가지고 있습니다."
      ],
      "metadata": {
        "id": "HzTjPI4Jk5pJ"
      }
    },
    {
      "cell_type": "code",
      "source": [
        "batch_me = torch.rand(3,226,226)\n",
        "print(batch_me.shape)\n",
        "batch_me.unsqueeze_(0)\n",
        "print(batch_me.shape)"
      ],
      "metadata": {
        "colab": {
          "base_uri": "https://localhost:8080/"
        },
        "id": "stZ7wr0Qkfml",
        "outputId": "397f8fe4-e564-4b89-cca5-08125fefaddb"
      },
      "execution_count": 41,
      "outputs": [
        {
          "output_type": "stream",
          "name": "stdout",
          "text": [
            "torch.Size([3, 226, 226])\n",
            "torch.Size([1, 3, 226, 226])\n"
          ]
        }
      ]
    },
    {
      "cell_type": "markdown",
      "source": [
        "때로는 원소의 개수와 원소의 값을 여전히 유지하면서 tensor의 shape를 한번에 바꾸고 싶을 때가 있습니다. 모델의 합성곱 계층과 선형 계층 사이 인터페이스에서 이러한 상황이 발생합니다 - 이 상황은 이미지 분류 모델에서 흔히 일어나는 일입니다. 합성곱 커널은 특성의 수 x 너비 x 높이 shpae의 tensor를 출력 값으로 생성하지만 이후에 있는 선형 계층은 입력 값으로 1차원을 기대합니다. 여러분이 요청한 차원에 입력 tensor가 가진 원소와 같은 개수를 생성하는 reshape() 를 여러분을 위해서 제공합니다:"
      ],
      "metadata": {
        "id": "12I-2pHTljJD"
      }
    },
    {
      "cell_type": "code",
      "source": [
        "output3d = torch.rand(6,20,20)\n",
        "print(output3d.shape)\n",
        "input1d = output3d.reshape(6 * 20 * 20)\n",
        "print(input1d.shape)\n",
        "\n",
        "print(torch.reshape(output3d, (6 * 20 * 20,)).shape)"
      ],
      "metadata": {
        "colab": {
          "base_uri": "https://localhost:8080/"
        },
        "id": "oJGw5pxJlHEP",
        "outputId": "a34ad2f5-d570-4152-fe15-fe86408121ce"
      },
      "execution_count": 43,
      "outputs": [
        {
          "output_type": "stream",
          "name": "stdout",
          "text": [
            "torch.Size([6, 20, 20])\n",
            "torch.Size([2400])\n",
            "torch.Size([2400])\n"
          ]
        }
      ]
    },
    {
      "cell_type": "markdown",
      "source": [
        "- 참고\n",
        "위에 있는 cell의 마지막 줄에 있는 인자 (6 * 20 * 20,) 는 PyTorch는 tensor shape를 나타낼 때 tuple 을 기대하기 때문입니다. 하지만 shape가 메소드의 첫번째 인자라면 - 연속된 정수라고 속여서 사용할 수 있습니다. 여기에서는 메소드에게 이 인자가 진짜 1개 원소를 가진 튜플이라고 알려주기 위해서 편의상 소괄호와 콤마를 추가해야 합니다.\n",
        "\n",
        "reshape() 는 tensor를 바라보는 관점 을 변경합니다. - 즉, 메모리의 같은 지역을 바라보는 서로 다른 관점을 가진 tensor 객체라는 뜻입니다. 이 내용은 정말 중요합니다: source tensor에 어떠한 변화가 있으면 clone() 을 사용하지 않는 한, 해당 tensor를 바라보고 있는 다른 객체 또한 값이 변한다는 뜻 입니다.\n",
        "\n",
        "해당 소개의 범위를 벗어난 조건 들 이 있습니다. 그것은 reshape() 가 data의 복사본을 가진 tensor를 반환 해야 한다는 것 입니다. 더 많은 정보는 다음 문서를 참고하세요 docs."
      ],
      "metadata": {
        "id": "Ztfriuf-mPz4"
      }
    },
    {
      "cell_type": "markdown",
      "source": [
        "## NumPy로 변환\n",
        "\n",
        "위에 있는 broadcasting 부분에서, PyTorch의 broadcast 문법은 Numpy와 호환 가능하다고 말했었습니다 - 하지만 PyTorch와 NumPy 사이 유사성은 우리가 생각한 것 보다 더욱 깊습니다.\n",
        "\n",
        "만약 NumPy의 ndarrays에 저장되어 있는 데이터를 사용하는 머신 러닝 혹은 과학 분야와 관련된 코드를 가지고 있다면, 같은 데이터를 PyTorch의 GPU 가속을 사용할 수 있고 머신 러닝 모델을 만드는데 필요한 효과적인 추상화를 제공하는 PyTorch tensor로 표현하고 싶을 수 있습니다. ndarray와 PyTorch tensor끼리 바꾸는 것은 쉽습니다:"
      ],
      "metadata": {
        "id": "O6jEPHOVmlnD"
      }
    },
    {
      "cell_type": "code",
      "source": [
        "import numpy as np\n",
        "\n",
        "numpy_array = np.ones((2,3))\n",
        "print(numpy_array)\n",
        "\n",
        "pytorch_tensor = torch.from_numpy(numpy_array)\n",
        "print(pytorch_tensor)"
      ],
      "metadata": {
        "colab": {
          "base_uri": "https://localhost:8080/"
        },
        "id": "jCqwCvTAl_cT",
        "outputId": "b4d5b17c-28b6-4199-e44c-8ee9229598fa"
      },
      "execution_count": 44,
      "outputs": [
        {
          "output_type": "stream",
          "name": "stdout",
          "text": [
            "[[1. 1. 1.]\n",
            " [1. 1. 1.]]\n",
            "tensor([[1., 1., 1.],\n",
            "        [1., 1., 1.]], dtype=torch.float64)\n"
          ]
        }
      ]
    },
    {
      "cell_type": "markdown",
      "source": [
        "PyTorch는 NumPy array와 같은 shape의 tensor를 생성하고, 같은 데이터를 포함합니다. 심지어 NumPy의 기본적인 64비트 실수 데이터 자료형을 유지합니다.\n",
        "\n",
        "PyTorch에서 NumPy로 변환은 다른 방식을 사용해서 쉽게 할 수 있습니다:"
      ],
      "metadata": {
        "id": "eKGIYGfln5EC"
      }
    },
    {
      "cell_type": "code",
      "source": [
        "pytorch_rand = torch.rand(2,3)\n",
        "print(pytorch_rand)\n",
        "\n",
        "numpy_rand = pytorch_rand.numpy()\n",
        "print(numpy_rand)"
      ],
      "metadata": {
        "colab": {
          "base_uri": "https://localhost:8080/"
        },
        "id": "rfUmr6m2nBAl",
        "outputId": "2a8d1a19-5813-4b35-e814-c4afa1a01b88"
      },
      "execution_count": 45,
      "outputs": [
        {
          "output_type": "stream",
          "name": "stdout",
          "text": [
            "tensor([[0.2387, 0.1672, 0.0923],\n",
            "        [0.8056, 0.9410, 0.3840]])\n",
            "[[0.23871374 0.16721427 0.09233946]\n",
            " [0.80564857 0.9409757  0.38403422]]\n"
          ]
        }
      ]
    },
    {
      "cell_type": "markdown",
      "source": [
        "이러한 변환된 객체들은 해당 객체의 source 객체가 위치한 메모리의 같은 공간 을 사용한다는 점을 아는 것이 중요합니다. 이것은 한 객체가 변하면 다른 것에 영향을 준다는 의미입니다:"
      ],
      "metadata": {
        "id": "V_BNXCdjoqnS"
      }
    },
    {
      "cell_type": "code",
      "source": [
        "numpy_array[1,1] = 23\n",
        "print(pytorch_tensor)\n",
        "\n",
        "pytorch_rand[1,1] = 17\n",
        "print(numpy_rand)"
      ],
      "metadata": {
        "colab": {
          "base_uri": "https://localhost:8080/"
        },
        "id": "o9EH-i-ZoJuY",
        "outputId": "b955342a-4a1b-47d1-f738-9d5f5c8f9c27"
      },
      "execution_count": 46,
      "outputs": [
        {
          "output_type": "stream",
          "name": "stdout",
          "text": [
            "tensor([[ 1.,  1.,  1.],\n",
            "        [ 1., 23.,  1.]], dtype=torch.float64)\n",
            "[[ 0.23871374  0.16721427  0.09233946]\n",
            " [ 0.80564857 17.          0.38403422]]\n"
          ]
        }
      ]
    },
    {
      "cell_type": "code",
      "source": [],
      "metadata": {
        "id": "ElPWD5_Zo4oI"
      },
      "execution_count": null,
      "outputs": []
    }
  ]
}