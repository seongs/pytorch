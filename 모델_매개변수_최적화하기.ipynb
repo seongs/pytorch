{
  "nbformat": 4,
  "nbformat_minor": 0,
  "metadata": {
    "colab": {
      "provenance": [],
      "gpuType": "T4",
      "authorship_tag": "ABX9TyO7OeZ09QkLiLT4C8RrEVms",
      "include_colab_link": true
    },
    "kernelspec": {
      "name": "python3",
      "display_name": "Python 3"
    },
    "language_info": {
      "name": "python"
    },
    "accelerator": "GPU"
  },
  "cells": [
    {
      "cell_type": "markdown",
      "metadata": {
        "id": "view-in-github",
        "colab_type": "text"
      },
      "source": [
        "<a href=\"https://colab.research.google.com/github/seongs/pytorch/blob/main/%EB%AA%A8%EB%8D%B8_%EB%A7%A4%EA%B0%9C%EB%B3%80%EC%88%98_%EC%B5%9C%EC%A0%81%ED%99%94%ED%95%98%EA%B8%B0.ipynb\" target=\"_parent\"><img src=\"https://colab.research.google.com/assets/colab-badge.svg\" alt=\"Open In Colab\"/></a>"
      ]
    },
    {
      "cell_type": "markdown",
      "source": [
        "# 모델 매개변수 최적화하기\n",
        "\n",
        "이제 모델과 데이터가 준비되었으니, 데이터에 매개변수를 최적화하여 모델을 학습하고, 검증하고, 테스트할 차례입니다. 모델을 학습하는 과정은 반복적인 과정을 거칩니다; 각 반복 단계에서 모델은 출력을 추측하고, 추측과 정답 사이의 오류(손실(loss))를 계산하고, (이전 장에서 본 것처럼) 매개변수에 대한 오류의 도함수(derivative)를 수집한 뒤, 경사하강법을 사용하여 이 파라미터들을 최적화(optimize)합니다."
      ],
      "metadata": {
        "id": "99S8da8MMQCr"
      }
    },
    {
      "cell_type": "markdown",
      "source": [
        "## 기본(Pre-requisite) 코드\n",
        "\n"
      ],
      "metadata": {
        "id": "RLNCNnSSMjDg"
      }
    },
    {
      "cell_type": "code",
      "execution_count": 1,
      "metadata": {
        "id": "jWC4UeaqMPES",
        "colab": {
          "base_uri": "https://localhost:8080/"
        },
        "outputId": "753bef60-44a8-43ea-951b-a43e5fc87547"
      },
      "outputs": [
        {
          "output_type": "stream",
          "name": "stdout",
          "text": [
            "Downloading http://fashion-mnist.s3-website.eu-central-1.amazonaws.com/train-images-idx3-ubyte.gz\n",
            "Downloading http://fashion-mnist.s3-website.eu-central-1.amazonaws.com/train-images-idx3-ubyte.gz to data/FashionMNIST/raw/train-images-idx3-ubyte.gz\n"
          ]
        },
        {
          "output_type": "stream",
          "name": "stderr",
          "text": [
            "100%|██████████| 26421880/26421880 [00:02<00:00, 11694160.61it/s]\n"
          ]
        },
        {
          "output_type": "stream",
          "name": "stdout",
          "text": [
            "Extracting data/FashionMNIST/raw/train-images-idx3-ubyte.gz to data/FashionMNIST/raw\n",
            "\n",
            "Downloading http://fashion-mnist.s3-website.eu-central-1.amazonaws.com/train-labels-idx1-ubyte.gz\n",
            "Downloading http://fashion-mnist.s3-website.eu-central-1.amazonaws.com/train-labels-idx1-ubyte.gz to data/FashionMNIST/raw/train-labels-idx1-ubyte.gz\n"
          ]
        },
        {
          "output_type": "stream",
          "name": "stderr",
          "text": [
            "100%|██████████| 29515/29515 [00:00<00:00, 209756.77it/s]\n"
          ]
        },
        {
          "output_type": "stream",
          "name": "stdout",
          "text": [
            "Extracting data/FashionMNIST/raw/train-labels-idx1-ubyte.gz to data/FashionMNIST/raw\n",
            "\n",
            "Downloading http://fashion-mnist.s3-website.eu-central-1.amazonaws.com/t10k-images-idx3-ubyte.gz\n",
            "Downloading http://fashion-mnist.s3-website.eu-central-1.amazonaws.com/t10k-images-idx3-ubyte.gz to data/FashionMNIST/raw/t10k-images-idx3-ubyte.gz\n"
          ]
        },
        {
          "output_type": "stream",
          "name": "stderr",
          "text": [
            "100%|██████████| 4422102/4422102 [00:01<00:00, 3834502.91it/s]\n"
          ]
        },
        {
          "output_type": "stream",
          "name": "stdout",
          "text": [
            "Extracting data/FashionMNIST/raw/t10k-images-idx3-ubyte.gz to data/FashionMNIST/raw\n",
            "\n",
            "Downloading http://fashion-mnist.s3-website.eu-central-1.amazonaws.com/t10k-labels-idx1-ubyte.gz\n",
            "Downloading http://fashion-mnist.s3-website.eu-central-1.amazonaws.com/t10k-labels-idx1-ubyte.gz to data/FashionMNIST/raw/t10k-labels-idx1-ubyte.gz\n"
          ]
        },
        {
          "output_type": "stream",
          "name": "stderr",
          "text": [
            "100%|██████████| 5148/5148 [00:00<00:00, 5030819.43it/s]"
          ]
        },
        {
          "output_type": "stream",
          "name": "stdout",
          "text": [
            "Extracting data/FashionMNIST/raw/t10k-labels-idx1-ubyte.gz to data/FashionMNIST/raw\n",
            "\n"
          ]
        },
        {
          "output_type": "stream",
          "name": "stderr",
          "text": [
            "\n"
          ]
        }
      ],
      "source": [
        "import torch\n",
        "from torch import nn\n",
        "from torch.utils.data import DataLoader\n",
        "from torchvision import datasets\n",
        "from torchvision.transforms import ToTensor\n",
        "\n",
        "training_data = datasets.FashionMNIST(\n",
        "    root= \"data\",\n",
        "    train=True,\n",
        "    download= True,\n",
        "    transform = ToTensor()\n",
        ")\n",
        "\n",
        "test_data = datasets.FashionMNIST(\n",
        "    root=\"data\",\n",
        "    train=False,\n",
        "    download=True,\n",
        "    transform=ToTensor()\n",
        ")\n",
        "\n",
        "train_dataloader = DataLoader(training_data,batch_size=64)\n",
        "test_dataloader = DataLoader(test_data, batch_size=64)\n",
        "\n",
        "class NeuralNetwork(nn.Module):\n",
        "  def __init__(self):\n",
        "    super(NeuralNetwork, self).__init__()\n",
        "    self.flatten = nn.Flatten()\n",
        "    self.linear_relu_stack = nn.Sequential(\n",
        "        nn.Linear(28*28, 512),\n",
        "        nn.ReLU(),\n",
        "        nn.Linear(512,512),\n",
        "        nn.ReLU(),\n",
        "        nn.Linear(512,10),\n",
        "    )\n",
        "  def forward(self, x):\n",
        "    x = self.flatten(x)\n",
        "    logits = self.linear_relu_stack(x)\n",
        "    return logits\n",
        "\n",
        "model = NeuralNetwork()"
      ]
    },
    {
      "cell_type": "markdown",
      "source": [
        "## 하이퍼파라미터(Hyperparameter)\n",
        "\n",
        "하이퍼파라미터(Hyperparameter)는 모델 최적화 과정을 제어할 수 있는 조절 가능한 매개변수입니다. 서로 다른 하이퍼파라미터 값은 모델 학습과 수렴율(convergence rate)에 영향을 미칠 수 있습니다. (하이퍼파라미터 튜닝(tuning)에 대해 더 알아보기)\n",
        "\n",
        "학습 시에는 다음과 같은 하이퍼파라미터를 정의합니다:\n",
        "\n",
        "- 에폭(epoch) 수 - 데이터셋을 반복하는 횟수\n",
        "- 배치 크기(batch size) - 매개변수가 갱신되기 전 신경망을 통해 전파된 데이터 샘플의 수\n",
        "- 학습률(learning rate) - 각 배치/에폭에서 모델의 매개변수를 조절하는 비율. 값이 작을수록 학습 속도가 느려지고, 값이 크면 학습 중 예측할 수 없는 동작이 발생할 수 있습니다."
      ],
      "metadata": {
        "id": "FH4v1tpzQVQj"
      }
    },
    {
      "cell_type": "code",
      "source": [
        "learning_rate = 1e-3\n",
        "batch_size = 64\n",
        "epochs = 5"
      ],
      "metadata": {
        "id": "UlE0GgdaPmR-"
      },
      "execution_count": 2,
      "outputs": []
    },
    {
      "cell_type": "markdown",
      "source": [
        "## 최적화 단계(Optimization Loop)\n",
        "\n",
        "하이퍼파라미터를 설정한 뒤에는 최적화 단계를 통해 모델을 학습하고 최적화할 수 있습니다. 최적화 단계의 각 반복(iteration)을 에폭이라고 부릅니다.\n",
        "\n",
        "하나의 에폭은 다음 두 부분으로 구성됩니다:\n",
        "\n",
        "- 학습 단계(train loop) - 학습용 데이터셋을 반복(iterate)하고 최적의 매개변수로 수렴합니다\n",
        "- 검증/테스트 단계(validation/test loop) - 모델 성능이 개선되고 있는지를 확인하기 위해 테스트 데이터셋을 반복(iterate)합니다\n",
        "\n",
        "학습 단계(training loop)에서 일어나는 몇 가지 개념들을 간략히 살펴보겠습니다. 최적화 단계(optimization loop)를 보려면 전체 구현 부분으로 건너뛰시면 됩니다.\n"
      ],
      "metadata": {
        "id": "-AZivmU3Rk0g"
      }
    },
    {
      "cell_type": "markdown",
      "source": [
        "## 손실 함수(loss function)\n",
        "\n",
        "학습용 데이터를 제공하면, 학습되지 않은 신경망은 정답을 제공하지 않을 확률이 높습니다. 손실 함수(loss function)는 획득한 결과와 실제 값 사이의 틀린 정도(degree of dissimilarity)를 측정하며, 학습 중에 이 값을 최소화하려고 합니다. 주어진 데이터 샘플을 입력으로 계산한 예측과 정답(label)을 비교하여 손실(loss)을 계산합니다.\n",
        "\n",
        "일반적인 손실함수에는 회귀 문제(regression task)에 사용하는 nn.MSELoss(평균 제곱 오차(MSE; Mean Square Error))나 분류(classification)에 사용하는 nn.NLLLoss (음의 로그 우도(Negative Log Likelihood)), 그리고 nn.LogSoftmax와 nn.NLLLoss를 합친 nn.CrossEntropyLoss 등이 있습니다.\n",
        "\n",
        "모델의 출력 로짓(logit)을 nn.CrossEntropyLoss에 전달하여 로짓(logit)을 정규화하고 예측 오류를 계산합니다.\n"
      ],
      "metadata": {
        "id": "Svt5MaS5Rvn0"
      }
    },
    {
      "cell_type": "code",
      "source": [
        "loss_fn = nn.CrossEntropyLoss()"
      ],
      "metadata": {
        "id": "1WQ74WoHQxjA"
      },
      "execution_count": 3,
      "outputs": []
    },
    {
      "cell_type": "markdown",
      "source": [
        "## 옵티마이저(Optimizer)\n",
        "\n",
        "최적화는 각 학습 단계에서 모델의 오류를 줄이기 위해 모델 매개변수를 조정하는 과정입니다. 최적화 알고리즘은 이 과정이 수행되는 방식(여기에서는 확률적 경사하강법(SGD; Stochastic Gradient Descent))을 정의합니다. 모든 최적화 절차(logic)는 optimizer 객체에 캡슐화(encapsulate)됩니다. 여기서는 SGD 옵티마이저를 사용하고 있으며, PyTorch에는 ADAM이나 RMSProp과 같은 다른 종류의 모델과 데이터에서 더 잘 동작하는 다양한 옵티마이저가 있습니다.\n",
        "\n",
        "학습하려는 모델의 매개변수와 학습률(learning rate) 하이퍼파라미터를 등록하여 옵티마이저를 초기화합니다."
      ],
      "metadata": {
        "id": "-yuZxjMUSmDh"
      }
    },
    {
      "cell_type": "code",
      "source": [
        "optimizer = torch.optim.SGD(model.parameters(), lr=learning_rate)"
      ],
      "metadata": {
        "id": "GsY_YUtoSJfg"
      },
      "execution_count": 4,
      "outputs": []
    },
    {
      "cell_type": "markdown",
      "source": [
        "학습 단계(loop)에서 최적화는 세단계로 이뤄집니다:\n",
        "- optimizer.zero_grad()를 호출하여 모델 매개변수의 변화도를 재설정합니다. 기본적으로 변화도는 더해지기(add up) 때문에 중복 계산을 막기 위해 반복할 때마다 명시적으로 0으로 설정합니다.\n",
        "\n",
        "- loss.backwards()를 호출하여 예측 손실(prediction loss)을 역전파합니다. PyTorch는 각 매개변수에 대한 손실의 변화도를 저장합니다.\n",
        "\n",
        "- 변화도를 계산한 뒤에는 optimizer.step()을 호출하여 역전파 단계에서 수집된 변화도로 매개변수를 조정합니다."
      ],
      "metadata": {
        "id": "zKDJ8dR2TUR_"
      }
    },
    {
      "cell_type": "markdown",
      "source": [
        "## 전체 구현\n",
        "\n",
        "최적화 코드를 반복하여 수행하는 train_loop와 테스트 데이터로 모델의 성능을 측정하는 test_loop를 정의하였습니다."
      ],
      "metadata": {
        "id": "AdB47bxLTbks"
      }
    },
    {
      "cell_type": "code",
      "source": [
        "def train_loop(dataloader, model, loss_fn, optimizer):\n",
        "    size = len(dataloader.dataset)\n",
        "    for batch, (X, y) in enumerate(dataloader):\n",
        "        pred = model(X)\n",
        "        loss = loss_fn(pred, y)\n",
        "\n",
        "        # 역전파\n",
        "        optimizer.zero_grad()\n",
        "        loss.backward()\n",
        "        optimizer.step()\n",
        "\n",
        "        if batch % 100 == 0:\n",
        "            loss, current = loss.item(), (batch + 1) * len(X)\n",
        "            print(f\"loss: {loss:>7f} [{current:>5d}/{size:>5d}]\")\n",
        "\n",
        "def test_loop(dataloader, model, loss_fn):\n",
        "    size = len(dataloader.dataset)\n",
        "    num_batches = len(dataloader)\n",
        "    test_loss, correct = 0, 0\n",
        "\n",
        "    with torch.no_grad():\n",
        "        for X, y in dataloader:\n",
        "            pred = model(X)\n",
        "            test_loss += loss_fn(pred, y).item()\n",
        "            correct += (pred.argmax(1) == y).type(torch.float).sum().item()\n",
        "\n",
        "        test_loss /= num_batches\n",
        "        correct /= size\n",
        "        print(f\"Test Error: \\n Accuracy: {(100*correct):>0.1f}%, Avg loss: {test_loss:>8f} \\n\")\n",
        "\n"
      ],
      "metadata": {
        "id": "tYiuMG9RS3qw"
      },
      "execution_count": 5,
      "outputs": []
    },
    {
      "cell_type": "markdown",
      "source": [
        "손실 함수와 옵티마이저를 초기화하고 train_loop와 test_loop에 전달합니다. 모델의 성능 향상을 알아보기 위해 자유롭게 에폭(epoch) 수를 증가시켜 볼 수 있습니다."
      ],
      "metadata": {
        "id": "jpUGnWczfgse"
      }
    },
    {
      "cell_type": "code",
      "source": [
        "loss_fn = nn.CrossEntropyLoss()\n",
        "optimizer = torch.optim.SGD(model.parameters(), lr = learning_rate)\n",
        "\n",
        "epochs = 10\n",
        "for t in range(epochs):\n",
        "  print(f\"Epoch {t+1}\\n--------------\")\n",
        "  train_loop(train_dataloader, model, loss_fn, optimizer)\n",
        "  test_loop(test_dataloader, model, loss_fn)\n",
        "print(\"Done!\")"
      ],
      "metadata": {
        "colab": {
          "base_uri": "https://localhost:8080/"
        },
        "id": "k_KcCwk5-QJv",
        "outputId": "72f18ab5-773e-4ac0-f59b-9f942a9a7d5f"
      },
      "execution_count": 6,
      "outputs": [
        {
          "output_type": "stream",
          "name": "stdout",
          "text": [
            "Epoch 1\n",
            "--------------\n",
            "loss: 2.299586 [   64/60000]\n",
            "loss: 2.292096 [ 6464/60000]\n",
            "loss: 2.268837 [12864/60000]\n",
            "loss: 2.275936 [19264/60000]\n",
            "loss: 2.243768 [25664/60000]\n",
            "loss: 2.221179 [32064/60000]\n",
            "loss: 2.238602 [38464/60000]\n",
            "loss: 2.194737 [44864/60000]\n",
            "loss: 2.195079 [51264/60000]\n",
            "loss: 2.178956 [57664/60000]\n",
            "Test Error: \n",
            " Accuracy: 36.8%, Avg loss: 2.165958 \n",
            "\n",
            "Epoch 2\n",
            "--------------\n",
            "loss: 2.168779 [   64/60000]\n",
            "loss: 2.167730 [ 6464/60000]\n",
            "loss: 2.106864 [12864/60000]\n",
            "loss: 2.133537 [19264/60000]\n",
            "loss: 2.075272 [25664/60000]\n",
            "loss: 2.015410 [32064/60000]\n",
            "loss: 2.055713 [38464/60000]\n",
            "loss: 1.963586 [44864/60000]\n",
            "loss: 1.975083 [51264/60000]\n",
            "loss: 1.920428 [57664/60000]\n",
            "Test Error: \n",
            " Accuracy: 51.9%, Avg loss: 1.909800 \n",
            "\n",
            "Epoch 3\n",
            "--------------\n",
            "loss: 1.938640 [   64/60000]\n",
            "loss: 1.914809 [ 6464/60000]\n",
            "loss: 1.792294 [12864/60000]\n",
            "loss: 1.840085 [19264/60000]\n",
            "loss: 1.729779 [25664/60000]\n",
            "loss: 1.674976 [32064/60000]\n",
            "loss: 1.710890 [38464/60000]\n",
            "loss: 1.597020 [44864/60000]\n",
            "loss: 1.624159 [51264/60000]\n",
            "loss: 1.541635 [57664/60000]\n",
            "Test Error: \n",
            " Accuracy: 59.7%, Avg loss: 1.547217 \n",
            "\n",
            "Epoch 4\n",
            "--------------\n",
            "loss: 1.612620 [   64/60000]\n",
            "loss: 1.581356 [ 6464/60000]\n",
            "loss: 1.423023 [12864/60000]\n",
            "loss: 1.498831 [19264/60000]\n",
            "loss: 1.385371 [25664/60000]\n",
            "loss: 1.372463 [32064/60000]\n",
            "loss: 1.399974 [38464/60000]\n",
            "loss: 1.310981 [44864/60000]\n",
            "loss: 1.341288 [51264/60000]\n",
            "loss: 1.267910 [57664/60000]\n",
            "Test Error: \n",
            " Accuracy: 63.0%, Avg loss: 1.280919 \n",
            "\n",
            "Epoch 5\n",
            "--------------\n",
            "loss: 1.357873 [   64/60000]\n",
            "loss: 1.342905 [ 6464/60000]\n",
            "loss: 1.168911 [12864/60000]\n",
            "loss: 1.274477 [19264/60000]\n",
            "loss: 1.154991 [25664/60000]\n",
            "loss: 1.172743 [32064/60000]\n",
            "loss: 1.205119 [38464/60000]\n",
            "loss: 1.129884 [44864/60000]\n",
            "loss: 1.162159 [51264/60000]\n",
            "loss: 1.103807 [57664/60000]\n",
            "Test Error: \n",
            " Accuracy: 64.7%, Avg loss: 1.112293 \n",
            "\n",
            "Epoch 6\n",
            "--------------\n",
            "loss: 1.184872 [   64/60000]\n",
            "loss: 1.189408 [ 6464/60000]\n",
            "loss: 0.999176 [12864/60000]\n",
            "loss: 1.131980 [19264/60000]\n",
            "loss: 1.008914 [25664/60000]\n",
            "loss: 1.036122 [32064/60000]\n",
            "loss: 1.080788 [38464/60000]\n",
            "loss: 1.010680 [44864/60000]\n",
            "loss: 1.043043 [51264/60000]\n",
            "loss: 0.997684 [57664/60000]\n",
            "Test Error: \n",
            " Accuracy: 66.0%, Avg loss: 1.000876 \n",
            "\n",
            "Epoch 7\n",
            "--------------\n",
            "loss: 1.062450 [   64/60000]\n",
            "loss: 1.088282 [ 6464/60000]\n",
            "loss: 0.880331 [12864/60000]\n",
            "loss: 1.035604 [19264/60000]\n",
            "loss: 0.916022 [25664/60000]\n",
            "loss: 0.938099 [32064/60000]\n",
            "loss: 0.997691 [38464/60000]\n",
            "loss: 0.930642 [44864/60000]\n",
            "loss: 0.959414 [51264/60000]\n",
            "loss: 0.925154 [57664/60000]\n",
            "Test Error: \n",
            " Accuracy: 67.1%, Avg loss: 0.923871 \n",
            "\n",
            "Epoch 8\n",
            "--------------\n",
            "loss: 0.971500 [   64/60000]\n",
            "loss: 1.017267 [ 6464/60000]\n",
            "loss: 0.793677 [12864/60000]\n",
            "loss: 0.967269 [19264/60000]\n",
            "loss: 0.854287 [25664/60000]\n",
            "loss: 0.865944 [32064/60000]\n",
            "loss: 0.939193 [38464/60000]\n",
            "loss: 0.876139 [44864/60000]\n",
            "loss: 0.899157 [51264/60000]\n",
            "loss: 0.872535 [57664/60000]\n",
            "Test Error: \n",
            " Accuracy: 68.4%, Avg loss: 0.868173 \n",
            "\n",
            "Epoch 9\n",
            "--------------\n",
            "loss: 0.901588 [   64/60000]\n",
            "loss: 0.963731 [ 6464/60000]\n",
            "loss: 0.728502 [12864/60000]\n",
            "loss: 0.916520 [19264/60000]\n",
            "loss: 0.810467 [25664/60000]\n",
            "loss: 0.811887 [32064/60000]\n",
            "loss: 0.895127 [38464/60000]\n",
            "loss: 0.837832 [44864/60000]\n",
            "loss: 0.854549 [51264/60000]\n",
            "loss: 0.832045 [57664/60000]\n",
            "Test Error: \n",
            " Accuracy: 69.6%, Avg loss: 0.825936 \n",
            "\n",
            "Epoch 10\n",
            "--------------\n",
            "loss: 0.845733 [   64/60000]\n",
            "loss: 0.920555 [ 6464/60000]\n",
            "loss: 0.677745 [12864/60000]\n",
            "loss: 0.877472 [19264/60000]\n",
            "loss: 0.777494 [25664/60000]\n",
            "loss: 0.770410 [32064/60000]\n",
            "loss: 0.860012 [38464/60000]\n",
            "loss: 0.809627 [44864/60000]\n",
            "loss: 0.820387 [51264/60000]\n",
            "loss: 0.799461 [57664/60000]\n",
            "Test Error: \n",
            " Accuracy: 71.0%, Avg loss: 0.792451 \n",
            "\n",
            "Done!\n"
          ]
        }
      ]
    },
    {
      "cell_type": "code",
      "source": [],
      "metadata": {
        "id": "2FBmFTj9gOrW"
      },
      "execution_count": null,
      "outputs": []
    }
  ]
}